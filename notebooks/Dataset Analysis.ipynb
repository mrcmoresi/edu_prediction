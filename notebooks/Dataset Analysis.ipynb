{
 "cells": [
  {
   "cell_type": "code",
   "execution_count": null,
   "metadata": {
    "ExecuteTime": {
     "end_time": "2019-03-19T17:09:20.752272Z",
     "start_time": "2019-03-19T17:09:19.604751Z"
    }
   },
   "outputs": [],
   "source": [
    "import json\n",
    "import pandas as pd\n",
    "import Levenshtein as lv\n",
    "import os\n",
    "import pickle\n",
    "import matplotlib.pyplot as plt"
   ]
  },
  {
   "cell_type": "code",
   "execution_count": null,
   "metadata": {
    "ExecuteTime": {
     "end_time": "2019-03-19T17:09:21.144457Z",
     "start_time": "2019-03-19T17:09:21.134540Z"
    }
   },
   "outputs": [],
   "source": [
    "def measure_time_distance(timedelta):\n",
    "    \"\"\"\n",
    "    Function that convert timedelta into seconds\n",
    "    \"\"\"\n",
    "    distance = (timedelta.total_seconds())\n",
    "    return distance\n",
    "\n",
    "def measure_text_distance(x,y):\n",
    "    \"\"\"\n",
    "    Function that calculate the Levenshtein distance\n",
    "    between two submissions code.\n",
    "    https://en.wikipedia.org/wiki/Levenshtein_distance\n",
    "    \"\"\"\n",
    "    return lv.distance(x,y)\n",
    "\n",
    "def calculate_distribution(df, column_name, exercise, mean=True):\n",
    "    \"\"\"\n",
    "    df: Dataframe with submissions\n",
    "    column_name: column with status\n",
    "\n",
    "    Function to obtain distribution of submissions status\n",
    "    return metrics and amount of submissions\n",
    "    \"\"\"\n",
    "    total_amount_submissions = df.shape[0]\n",
    "    submissions_grouped = df.groupby([column_name]).size()\n",
    "    metrics = {}\n",
    "    if mean:\n",
    "        metrics = submissions_grouped/total_amount_submissions\n",
    "    else:\n",
    "        metrics = submissions_grouped\n",
    "    metrics['exercise'] = str(exercise)\n",
    "    metrics['submission_amount'] = total_amount_submissions\n",
    "    return metrics\n",
    "\n",
    "def shift_columns(df, shift_exercise=False):\n",
    "    \"\"\"\n",
    "    Function that create 4 new columns\n",
    "    shifted column contains submissions_content shifted to calculate the distance\n",
    "    datetime_shifted contains datetime shifted to calculate the distance between times\n",
    "    \n",
    "    distance, Levenshtein distance between submissions\n",
    "    time_dist, time distance between submissions in seconds\n",
    "    \"\"\"\n",
    "    df.loc[:,'shifted'] = df['content'].shift().fillna(value='')\n",
    "    df.loc[:,'datetime_shifted'] = df['datetime'].shift().fillna(value=pd.Timestamp(1800, 1, 1, 0))\n",
    "    df['distance'] = df.apply(lambda x : measure_text_distance(x['content'],x['shifted']), axis=1)\n",
    "    df['time_dist'] = df.apply(lambda x : measure_time_distance(x['datetime']-x['datetime_shifted']), axis=1)\n",
    "    if shift_exercise:\n",
    "        df.loc[:,'exercise.name.previous'] = df['exercise.name'].shift().fillna(value='')\n",
    "        df.loc[:,'submissions_status.previous'] = df['status'].shift().fillna(value='')\n",
    "        df['switch_exercise'] = df.apply(lambda x : x['exercise.name'] != x['exercise.name.previous'], axis=1)\n",
    "    return df"
   ]
  },
  {
   "cell_type": "markdown",
   "metadata": {},
   "source": [
    "# Load Failed Submissions"
   ]
  },
  {
   "cell_type": "code",
   "execution_count": null,
   "metadata": {
    "ExecuteTime": {
     "start_time": "2019-03-19T17:04:50.896Z"
    }
   },
   "outputs": [],
   "source": [
    "submissions_failed = pd.DataFrame()\n",
    "dataset_home = \"datasets/\"\n",
    "files = [\n",
    "    'haskell_new.json'\n",
    "]\n",
    "\n",
    "for file in files:\n",
    "    json_file = open(dataset_home+str(file), encoding='utf8')\n",
    "    json_data = json.load(json_file)\n",
    "    submissions_failed = pd.io.json.json_normalize(json_data)\n",
    "    submissions_failed['datetime'] = pd.to_datetime(submissions_failed['created_at.$date'], unit='ms')"
   ]
  },
  {
   "cell_type": "code",
   "execution_count": null,
   "metadata": {
    "ExecuteTime": {
     "start_time": "2019-01-05T16:52:20.884Z"
    }
   },
   "outputs": [],
   "source": [
    "\n",
    "submissions_failed = submissions_failed[['content', 'expectation_results', 'feedback', 'result', 'sid', 'status',\n",
    "       'submissions_count', 'test_results', 'guide.slug', 'submitter.email',\n",
    "       'submitter.social_id', 'guide.name', 'exercise.name', 'exercise.eid',\n",
    "       'guide.language.name', 'datetime']]\n"
   ]
  },
  {
   "cell_type": "markdown",
   "metadata": {},
   "source": [
    "# Load IntroAlgo Submissions"
   ]
  },
  {
   "cell_type": "code",
   "execution_count": null,
   "metadata": {
    "ExecuteTime": {
     "end_time": "2019-03-19T17:09:26.294441Z",
     "start_time": "2019-03-19T17:09:25.024888Z"
    }
   },
   "outputs": [],
   "source": [
    "submissions_introAlgo = pd.DataFrame()\n",
    "dataset_home = \"datasets/\"\n",
    "files = [\n",
    "    #'2016-2c-introalgo-2c-2016.json', '2017-2c-introalgo-2c-2017.json',\n",
    "    '2018-2c-introalgo-2018-2c-23Octubre.json',\n",
    "]\n",
    "\n",
    "for file in files:\n",
    "    json_file = open(dataset_home+str(file), encoding='utf8')\n",
    "    json_data = json.load(json_file)\n",
    "    \n",
    "    subm_df = pd.io.json.json_normalize(\n",
    "        json_data, 'submissions', [['guide','slug'], ['student','email'],['student','social_id'],['guide','name'], ['exercise','name'],['exercise','eid'],['guide','language','name'], ['created_at']], record_prefix='submissions_', errors='ignore')\n",
    "    subm_df['datetime'] = pd.to_datetime(subm_df['submissions_created_at'])\n",
    "    submissions_introAlgo = submissions_introAlgo.append(subm_df)\n",
    "    "
   ]
  },
  {
   "cell_type": "code",
   "execution_count": null,
   "metadata": {
    "ExecuteTime": {
     "end_time": "2019-03-19T17:09:27.657154Z",
     "start_time": "2019-03-19T17:09:27.601466Z"
    }
   },
   "outputs": [],
   "source": [
    "submissions_introAlgo.rename(columns={'submissions_content':'content',\n",
    "       'submissions_expectation_results': 'expectation_results', 'submissions_feedback':'feedback',\n",
    "       'submissions_result' : 'result', 'submissions_sid' : 'sid', 'submissions_status': 'status',\n",
    "       'submissions_submissions_count':'submissions_count', 'submissions_test_results':'test_results',\n",
    "       'student.email' : 'submitter.email', 'student.social_id':'submitter.social_id'}, inplace=True)"
   ]
  },
  {
   "cell_type": "code",
   "execution_count": null,
   "metadata": {
    "ExecuteTime": {
     "end_time": "2019-03-19T17:09:31.649799Z",
     "start_time": "2019-03-19T17:09:31.615792Z"
    }
   },
   "outputs": [],
   "source": [
    "submissions_introAlgo = submissions_introAlgo.reset_index()[['content', 'expectation_results', 'feedback',\n",
    "       'result', 'sid', 'status', 'submissions_count', 'test_results',\n",
    "       'guide.slug', 'submitter.email', 'submitter.social_id', 'guide.name',\n",
    "       'exercise.name', 'exercise.eid', 'guide.language.name', 'datetime']]"
   ]
  },
  {
   "cell_type": "code",
   "execution_count": null,
   "metadata": {
    "ExecuteTime": {
     "end_time": "2019-03-19T17:09:32.568451Z",
     "start_time": "2019-03-19T17:09:32.432111Z"
    }
   },
   "outputs": [],
   "source": [
    "submissions_introAlgo"
   ]
  },
  {
   "cell_type": "markdown",
   "metadata": {},
   "source": [
    "# Load courses submissions"
   ]
  },
  {
   "cell_type": "code",
   "execution_count": null,
   "metadata": {
    "ExecuteTime": {
     "end_time": "2018-11-26T20:02:23.798145Z",
     "start_time": "2018-11-26T19:51:53.335238Z"
    }
   },
   "outputs": [],
   "source": [
    "dataset_home = \"datasets/haskell\"\n",
    "files = os.listdir(dataset_home)\n",
    "submissions_courses = pd.DataFrame()\n",
    "for file in files:\n",
    "    json_file = open(os.path.join(dataset_home, file), encoding='utf8')\n",
    "    json_data = json.load(json_file)\n",
    "    submissions_courses = submissions_courses.append(pd.io.json.json_normalize(json_data), ignore_index=True)\n",
    "\n",
    "submissions_courses['datetime'] = pd.to_datetime(submissions_courses['created_at.$date'], unit='ms')\n",
    "submissions_courses = submissions_courses[['content', 'expectation_results', 'feedback', 'result', 'sid', 'status',\n",
    "   'submissions_count', 'test_results', 'guide.slug', 'submitter.email',\n",
    "   'submitter.social_id', 'guide.name', 'exercise.name', 'exercise.eid',\n",
    "   'guide.language.name', 'datetime']]\n"
   ]
  },
  {
   "cell_type": "code",
   "execution_count": null,
   "metadata": {
    "ExecuteTime": {
     "end_time": "2018-11-26T21:18:38.868991Z",
     "start_time": "2018-11-26T21:17:53.832816Z"
    }
   },
   "outputs": [],
   "source": [
    "submissions_df = pd.concat([submissions_introAlgo, submissions_courses, submissions_failed])"
   ]
  },
  {
   "cell_type": "code",
   "execution_count": null,
   "metadata": {
    "ExecuteTime": {
     "end_time": "2019-03-19T17:13:35.375179Z",
     "start_time": "2019-03-19T17:13:35.265096Z"
    }
   },
   "outputs": [],
   "source": [
    "#base = 'dataframes_pkl/'\n",
    "#submissions = pd.read_pickle(base + 'failed_submissions_df_FINAL.pkl')\n",
    "submissions_df =  pd.read_pickle('dataframes_pkl/introAlgo_FINAL_anotado.pkl')\n",
    "submissions_df"
   ]
  },
  {
   "cell_type": "markdown",
   "metadata": {},
   "source": [
    "## Users logged in with social accounts."
   ]
  },
  {
   "cell_type": "code",
   "execution_count": null,
   "metadata": {
    "ExecuteTime": {
     "end_time": "2019-03-19T17:13:37.355012Z",
     "start_time": "2019-03-19T17:13:37.274702Z"
    }
   },
   "outputs": [],
   "source": [
    "social_accounts = submissions_df[submissions_df['submitter.email'].isnull()]['submitter.social_id'].nunique()"
   ]
  },
  {
   "cell_type": "markdown",
   "metadata": {},
   "source": [
    "## Users logged in with email accounts."
   ]
  },
  {
   "cell_type": "code",
   "execution_count": null,
   "metadata": {
    "ExecuteTime": {
     "end_time": "2019-03-19T17:14:08.691664Z",
     "start_time": "2019-03-19T17:14:08.681530Z"
    }
   },
   "outputs": [],
   "source": [
    "email_accounts = submissions_df['student.email'].nunique()"
   ]
  },
  {
   "cell_type": "code",
   "execution_count": null,
   "metadata": {
    "ExecuteTime": {
     "end_time": "2019-03-19T17:14:28.085057Z",
     "start_time": "2019-03-19T17:14:28.062417Z"
    }
   },
   "outputs": [],
   "source": [
    "exercises_social = 0\n",
    "for social in social_accounts:\n",
    "    exercises_social += submissions_df[submissions_df['student.email'] == social]['exercise.name'].nunique()"
   ]
  },
  {
   "cell_type": "code",
   "execution_count": null,
   "metadata": {
    "ExecuteTime": {
     "end_time": "2019-01-09T15:54:40.838455Z",
     "start_time": "2019-01-09T15:52:19.734543Z"
    }
   },
   "outputs": [],
   "source": [
    "exercises_email = 0\n",
    "for email in email_accounts:\n",
    "    exercises_email += submissions_df[submissions_df['submitter.email'] == email]['exercise.name'].nunique()"
   ]
  },
  {
   "cell_type": "code",
   "execution_count": null,
   "metadata": {
    "ExecuteTime": {
     "end_time": "2019-01-09T16:08:24.723423Z",
     "start_time": "2019-01-09T16:08:24.109875Z"
    }
   },
   "outputs": [],
   "source": [
    "submissions_df = submissions_df[submissions_df['guide.language.name'] == 'haskell']\n",
    "submissions_df = submissions_df[~submissions_df['content'].isnull()]\n",
    "submissions_df = submissions_df[~(submissions_df['status']=='aborted')]\n",
    "exercises_names_2018 = ['Guardas: Básico', 'Otherwise', 'La historia sin fin',\n",
    "       'No todo lo que brilla es Oro', 'Iterar', 'Variable Anónima',\n",
    "       '¡Terminala! Parte 2', 'El caso base',\n",
    "       'Pattern Matching con Tuplas', 'Orden de las Condiciones',\n",
    "       'Cuando los patrones no encajan', 'esMultiploDeTres',\n",
    "       'Pausa: Volvieron los tipos', 'esMultiploDe', 'Cubo',\n",
    "       'Puntos Para Setenta!', 'Área', 'Tipando tuplas', 'esBisiesto',\n",
    "       'celsiusToFahr', 'fahrToCelsius', 'haceFrioF', 'Los números',\n",
    "       'fibonacci', 'pertenece', 'interseccion', 'transformadaLoca',\n",
    "       'productoria', 'maximo', 'menoresA', 'diferencias', 'Dispersión',\n",
    "       'sinRepetidos', 'Pinos', 'esCuadradoPerfecto', 'Días',\n",
    "       'Valores y variables', 'siguiente', 'mitad', 'Inversa', 'Triple',\n",
    "       'esNumeroPositivo', 'Más valores', 'Las Funciones',\n",
    "       'elementos3-upla', 'aplicar2-upla', 'cuentaBizarra', 'notas',\n",
    "       'notasFinales2-upla', 'esMayorDeEdad', 'calcular', 'Más funciones',\n",
    "       'Los booleanos', 'Múltiples parámetros', 'Triángulos',\n",
    "       'Combinando funciones', 'Composición', 'promedios',\n",
    "       'promediosSinAplazos', 'Los operadores son funciones',\n",
    "       'Más composición', 'alVesre', 'zipWith', 'filtrar', 'maximoSegun',\n",
    "       'aplanar', 'intercalar']\n",
    "#calculate_distribution()"
   ]
  },
  {
   "cell_type": "code",
   "execution_count": null,
   "metadata": {
    "ExecuteTime": {
     "end_time": "2019-01-09T16:09:52.106156Z",
     "start_time": "2019-01-09T16:09:24.347317Z"
    }
   },
   "outputs": [],
   "source": [
    "submissions = pd.DataFrame()\n",
    "for exercise_name in exercises_names_2018:\n",
    "    submissions = submissions.append(submissions_df[submissions_df['exercise.name'] == exercise_name], ignore_index = True)"
   ]
  },
  {
   "cell_type": "code",
   "execution_count": null,
   "metadata": {
    "ExecuteTime": {
     "end_time": "2019-01-17T16:51:29.579963Z",
     "start_time": "2019-01-17T16:51:28.911788Z"
    }
   },
   "outputs": [],
   "source": [
    "calculate_distribution(submissions, 'submissions_status', 'todes', False)"
   ]
  },
  {
   "cell_type": "code",
   "execution_count": null,
   "metadata": {
    "ExecuteTime": {
     "end_time": "2019-01-09T16:04:38.787265Z",
     "start_time": "2019-01-09T16:04:38.749571Z"
    }
   },
   "outputs": [],
   "source": [
    "print(\"total users {}\".format(social_accounts + email_accounts))"
   ]
  },
  {
   "cell_type": "code",
   "execution_count": null,
   "metadata": {
    "ExecuteTime": {
     "end_time": "2019-01-04T19:17:33.679796Z",
     "start_time": "2019-01-04T19:17:32.417359Z"
    }
   },
   "outputs": [],
   "source": [
    "submissions = submissions[~(submissions['status'] == 'aborted')]\n",
    "submissions = submissions[~(submissions['status'] == 'pending')]\n",
    "submissions = submissions[~(submissions['status'] == 'running')]\n",
    "distribution = calculate_distribution(submissions, 'status', 'Exercises Distribution', False)\n",
    "distribution"
   ]
  },
  {
   "cell_type": "code",
   "execution_count": null,
   "metadata": {
    "ExecuteTime": {
     "end_time": "2018-11-26T21:47:13.858231Z",
     "start_time": "2018-11-26T21:47:13.594507Z"
    }
   },
   "outputs": [],
   "source": [
    "submissions_df['exercise.name'].nunique()"
   ]
  },
  {
   "cell_type": "code",
   "execution_count": null,
   "metadata": {
    "ExecuteTime": {
     "end_time": "2019-03-19T21:18:24.570389Z",
     "start_time": "2019-03-19T21:18:24.495540Z"
    }
   },
   "outputs": [],
   "source": [
    "base = 'dataframes_pkl/'\n",
    "#submissions_df = pd.read_pickle(base+'failed_submissions_df.pkl')\n",
    "submissions_df = pd.read_pickle('dataframes_pkl/introAlgo_FINAL_anotado.pkl')\n",
    "#submissions_df = pd.read_pickle('dataframes_pkl/mumuki_io_FINAL_anotado.pkl')\n"
   ]
  },
  {
   "cell_type": "markdown",
   "metadata": {},
   "source": [
    "# Calculo de uso de la plataforma"
   ]
  },
  {
   "cell_type": "code",
   "execution_count": null,
   "metadata": {
    "ExecuteTime": {
     "end_time": "2019-03-19T21:18:24.981800Z",
     "start_time": "2019-03-19T21:18:24.968810Z"
    },
    "scrolled": true
   },
   "outputs": [],
   "source": [
    "def calculate_day_and_hour_of_use(df):\n",
    "    df['day_of_week'] = df['datetime'].apply(\n",
    "        lambda x : x.isoweekday()\n",
    "    )\n",
    "    df['hour_of_day'] = df['datetime'].apply(\n",
    "        lambda x : x.hour\n",
    "    )\n",
    "    return df"
   ]
  },
  {
   "cell_type": "code",
   "execution_count": null,
   "metadata": {
    "ExecuteTime": {
     "end_time": "2019-03-19T21:18:25.795960Z",
     "start_time": "2019-03-19T21:18:25.605103Z"
    }
   },
   "outputs": [],
   "source": [
    "submissions = calculate_day_and_hour_of_use(submissions_df)\n",
    "submissions"
   ]
  },
  {
   "cell_type": "code",
   "execution_count": null,
   "metadata": {
    "ExecuteTime": {
     "end_time": "2019-03-19T21:18:32.839972Z",
     "start_time": "2019-03-19T21:18:32.803824Z"
    }
   },
   "outputs": [],
   "source": [
    "submissions_per_day = submissions[\n",
    "    ['datetime', 'day_of_week']].groupby('day_of_week').count().reset_index().rename(columns={'datetime':'amount_submissions'})"
   ]
  },
  {
   "cell_type": "markdown",
   "metadata": {},
   "source": [
    "## soluciones por dia 1 Lunes 7 Domingo"
   ]
  },
  {
   "cell_type": "code",
   "execution_count": null,
   "metadata": {
    "ExecuteTime": {
     "end_time": "2019-03-19T21:18:34.006235Z",
     "start_time": "2019-03-19T21:18:33.986833Z"
    }
   },
   "outputs": [],
   "source": [
    "submissions_per_day['percentage'] = submissions_per_day['amount_submissions']/submissions_per_day['amount_submissions'].sum()*100\n",
    "submissions_per_day"
   ]
  },
  {
   "cell_type": "markdown",
   "metadata": {},
   "source": [
    "## soluciones por franja horaria martes y jueves"
   ]
  },
  {
   "cell_type": "code",
   "execution_count": null,
   "metadata": {
    "ExecuteTime": {
     "end_time": "2019-03-19T21:18:37.590816Z",
     "start_time": "2019-03-19T21:18:37.577118Z"
    }
   },
   "outputs": [],
   "source": [
    "submissions_introAlgo = submissions\n",
    "submissions_per_hour = submissions_introAlgo[\n",
    "    (submissions_introAlgo['day_of_week'] == 4) | (submissions_introAlgo['day_of_week'] == 2)][['hour_of_day', 'datetime']].groupby('hour_of_day').count()"
   ]
  },
  {
   "cell_type": "code",
   "execution_count": null,
   "metadata": {
    "ExecuteTime": {
     "end_time": "2019-03-19T21:18:37.979470Z",
     "start_time": "2019-03-19T21:18:37.972754Z"
    }
   },
   "outputs": [],
   "source": [
    "submissions_per_hour = submissions[['hour_of_day', 'datetime']].groupby('hour_of_day').count()"
   ]
  },
  {
   "cell_type": "code",
   "execution_count": null,
   "metadata": {
    "ExecuteTime": {
     "end_time": "2019-03-19T21:18:38.363247Z",
     "start_time": "2019-03-19T21:18:38.357591Z"
    }
   },
   "outputs": [],
   "source": [
    "submissions_per_hour.sum()"
   ]
  },
  {
   "cell_type": "code",
   "execution_count": null,
   "metadata": {
    "ExecuteTime": {
     "end_time": "2019-03-19T21:18:38.832210Z",
     "start_time": "2019-03-19T21:18:38.818655Z"
    }
   },
   "outputs": [],
   "source": [
    "submissions_per_hour = submissions_per_hour.reset_index().rename(columns={'datetime':'amount_submissions'})\n",
    "submissions_per_hour.sort_values('hour_of_day', inplace=True)\n",
    "submissions_per_hour.set_index('hour_of_day')\n",
    "submissions_per_hour"
   ]
  },
  {
   "cell_type": "code",
   "execution_count": null,
   "metadata": {
    "ExecuteTime": {
     "end_time": "2019-03-19T21:18:39.348004Z",
     "start_time": "2019-03-19T21:18:39.338809Z"
    }
   },
   "outputs": [],
   "source": [
    "print(submissions_per_hour.loc[0:3,:].sum())\n",
    "print('-----------------')\n",
    "print(submissions_per_hour.loc[0:3,:]['amount_submissions'].sum())"
   ]
  },
  {
   "cell_type": "code",
   "execution_count": null,
   "metadata": {
    "ExecuteTime": {
     "end_time": "2019-03-19T21:18:41.257885Z",
     "start_time": "2019-03-19T21:18:41.234399Z"
    }
   },
   "outputs": [],
   "source": [
    "sub_0_3 = submissions_per_hour.loc[0:3,:]['amount_submissions'].sum()\n",
    "sub_4_8 = submissions_per_hour.loc[4:8,:]['amount_submissions'].sum()\n",
    "sub_9_13 = submissions_per_hour.loc[9:13,:]['amount_submissions'].sum()\n",
    "sub_14_18 = submissions_per_hour.loc[14:18,:]['amount_submissions'].sum()\n",
    "sub_19_23 = submissions_per_hour.loc[19:23,:]['amount_submissions'].sum()\n",
    "lst_uso = [sub_0_3, sub_4_8, sub_9_13, sub_14_18, sub_19_23]\n",
    "lst_uso"
   ]
  },
  {
   "cell_type": "code",
   "execution_count": null,
   "metadata": {
    "ExecuteTime": {
     "end_time": "2019-03-19T21:18:41.869133Z",
     "start_time": "2019-03-19T21:18:41.855495Z"
    }
   },
   "outputs": [],
   "source": [
    "def plot_uso_por_horas(lst_uso):\n",
    "    plt.gcf().clear()\n",
    "    plt.style.use('seaborn')\n",
    "    plt.figure(figsize=(15,10))\n",
    "    plt.title(\"Intro Algo\", size=30)\n",
    "    plt.bar(\n",
    "        ['0-3', '4-8', '9-13', '14-18', '19-23'],\n",
    "        lst_uso, edgecolor='black', label='Cantidad de soluciones', width=0.5)\n",
    "    plt.xlabel('Franja Horaria', size=24)\n",
    "    #plt.ylabel('Cantidad de soluciones enviadas', size=24)\n",
    "    plt.yticks(fontsize = 25)\n",
    "    plt.xticks(fontsize = 25)\n",
    "    plt.legend(loc=2, prop={'size': 20})\n",
    "    plt.show()\n"
   ]
  },
  {
   "cell_type": "code",
   "execution_count": null,
   "metadata": {
    "ExecuteTime": {
     "end_time": "2019-03-19T21:18:42.298804Z",
     "start_time": "2019-03-19T21:18:42.282982Z"
    }
   },
   "outputs": [],
   "source": [
    "def plot_uso_semanal(df):\n",
    "    plt.gcf().clear()\n",
    "    plt.style.use('seaborn')\n",
    "    plt.figure(figsize=(15,10))\n",
    "    plt.title(\"Intro Algo\", size=30)\n",
    "    plt.bar(\n",
    "        ['L', 'M', 'X', 'J', 'V', 'S', 'D'],\n",
    "        df['amount_submissions'], edgecolor='black', label='Cantidad de soluciones', width=0.5)\n",
    "        #(df['amount_submissions']/df['amount_submissions'].sum())*100, edgecolor='black', label='Submissions Amount')\n",
    "    plt.xlabel('Dia de la semana', size=24)\n",
    "    #plt.ylabel('Cantidad de soluciones enviadas', size=24)\n",
    "    plt.yticks(fontsize = 25)\n",
    "    plt.xticks(fontsize = 25)\n",
    "    plt.legend(loc=1, prop={'size': 20})\n",
    "    plt.show()\n",
    "    "
   ]
  },
  {
   "cell_type": "code",
   "execution_count": null,
   "metadata": {
    "ExecuteTime": {
     "end_time": "2019-03-19T21:18:43.649521Z",
     "start_time": "2019-03-19T21:18:43.457416Z"
    }
   },
   "outputs": [],
   "source": [
    "plot_uso_semanal(submissions_per_day)"
   ]
  },
  {
   "cell_type": "code",
   "execution_count": null,
   "metadata": {
    "ExecuteTime": {
     "end_time": "2019-03-19T21:18:44.164491Z",
     "start_time": "2019-03-19T21:18:43.987839Z"
    }
   },
   "outputs": [],
   "source": [
    "plot_uso_por_horas(lst_uso)"
   ]
  },
  {
   "cell_type": "code",
   "execution_count": null,
   "metadata": {
    "ExecuteTime": {
     "end_time": "2019-01-04T19:02:43.036109Z",
     "start_time": "2019-01-04T19:02:43.021445Z"
    }
   },
   "outputs": [],
   "source": []
  },
  {
   "cell_type": "code",
   "execution_count": null,
   "metadata": {},
   "outputs": [],
   "source": []
  }
 ],
 "metadata": {
  "kernelspec": {
   "display_name": "Python 3",
   "language": "python",
   "name": "python3"
  },
  "language_info": {
   "codemirror_mode": {
    "name": "ipython",
    "version": 3
   },
   "file_extension": ".py",
   "mimetype": "text/x-python",
   "name": "python",
   "nbconvert_exporter": "python",
   "pygments_lexer": "ipython3",
   "version": "3.6.5"
  }
 },
 "nbformat": 4,
 "nbformat_minor": 2
}
