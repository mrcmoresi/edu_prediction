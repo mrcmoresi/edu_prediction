{
  "nbformat": 4,
  "nbformat_minor": 0,
  "metadata": {
    "colab": {
      "name": "Therapy Presentation.ipynb",
      "provenance": [],
      "collapsed_sections": []
    },
    "kernelspec": {
      "name": "python3",
      "display_name": "Python 3"
    },
    "accelerator": "GPU"
  },
  "cells": [
    {
      "cell_type": "code",
      "metadata": {
        "id": "mlmctQhzEGM9",
        "colab_type": "code",
        "outputId": "ab5d279b-dc2d-439f-c68d-0d17f3161889",
        "colab": {
          "base_uri": "https://localhost:8080/",
          "height": 35
        }
      },
      "source": [
        "import pandas as pd\n",
        "import numpy\n",
        "from keras.models import Sequential, load_model\n",
        "from keras.layers import LSTM, Dropout, Dense\n",
        "from keras.layers.embeddings import Embedding\n",
        "from keras.preprocessing import sequence\n",
        "\n",
        "# fix random seed for reproducibility\n",
        "import numpy as np\n",
        "numpy.random.seed(10)\n",
        "SEED = 42\n",
        "import spacy\n",
        "from tqdm import tqdm\n",
        "from sklearn.metrics import confusion_matrix, classification_report, precision_recall_fscore_support, f1_score\n",
        "from keras.preprocessing.text import Tokenizer, text_to_word_sequence, one_hot\n",
        "from keras.callbacks import Callback, ModelCheckpoint\n",
        "import matplotlib.pyplot as plt\n",
        "\n",
        "import tensorflow as tf\n",
        "\n",
        "import pickle\n",
        "import itertools\n",
        "\n",
        "import plotly\n",
        "import plotly.graph_objs as go\n",
        "from tqdm import tqdm\n",
        "from sklearn.metrics import classification_report"
      ],
      "execution_count": 0,
      "outputs": [
        {
          "output_type": "stream",
          "text": [
            "Using TensorFlow backend.\n"
          ],
          "name": "stderr"
        }
      ]
    },
    {
      "cell_type": "markdown",
      "metadata": {
        "id": "ZSjnbBKtEQE_",
        "colab_type": "text"
      },
      "source": [
        "# Aux functions"
      ]
    },
    {
      "cell_type": "code",
      "metadata": {
        "id": "UrldmNTzEIUt",
        "colab_type": "code",
        "colab": {}
      },
      "source": [
        "def train_test(df, proportion=[.7,.9]):\n",
        "    train_df = pd.DataFrame() \n",
        "    dev_df = pd.DataFrame() \n",
        "    test_df = pd.DataFrame() \n",
        "    exercises_names = df['exercise.name'].unique()\n",
        "    for exercise in exercises_names:\n",
        "        df_exer = df[df['exercise.name'] == exercise]\n",
        "        train, dev  = np.split(df_exer.sample(frac=1), [int(.7*len(df_exer))])\n",
        "        print(train.shape, dev.shape, exercise)\n",
        "        train_df = train_df.append(train, ignore_index=True)\n",
        "        dev_df = dev_df.append(dev, ignore_index=True)\n",
        "    return train_df, dev_df"
      ],
      "execution_count": 0,
      "outputs": []
    },
    {
      "cell_type": "code",
      "metadata": {
        "id": "8QfG4TkJEKdE",
        "colab_type": "code",
        "colab": {}
      },
      "source": [
        "class F1_Score(Callback):\n",
        "    def __init__(self, training_data):\n",
        "        self.training_data = training_data\n",
        "        super().__init__() \n",
        "\n",
        "    def on_train_begin(self, logs={}):\n",
        "        self.train_f1s = []\n",
        "        self.val_f1s = []\n",
        "\n",
        "    def on_epoch_end(self, epoch, logs={}):\n",
        "        \"\"\"\n",
        "        train_predict = np.rint(self.model.predict(self.training_data[0]))\n",
        "        train_targ = self.training_data[1]\n",
        "        _train_f1 = f1_score(train_targ, train_predict, average='weighted')\n",
        "        self.train_f1s.append(_train_f1)\n",
        "        print(\" — train_f1: %.4f\" % _train_f1)\n",
        "        \"\"\"\n",
        "        val_predict = np.rint(self.model.predict(self.validation_data[0]))\n",
        "        val_targ = self.validation_data[1]\n",
        "        _val_f1 = f1_score(val_targ, val_predict, average='weighted')\n",
        "        print(classification_report(val_targ, val_predict))\n",
        "        self.val_f1s.append(_val_f1)\n",
        "        print(\" — val_f1: %.4f\" % _val_f1)\n",
        "        return"
      ],
      "execution_count": 0,
      "outputs": []
    },
    {
      "cell_type": "code",
      "metadata": {
        "id": "113V7jhrFhRk",
        "colab_type": "code",
        "colab": {}
      },
      "source": [
        "def get_prediction(model, sub_content, max_length):\n",
        "    return model.predict_proba(sequence.pad_sequences(sub_content,maxlen=max_length))\n",
        "\n",
        "def print_header(data):\n",
        "    print(\"Exercise Name: {}\\nSupport: {}\\nAccuracy: {p:.2f}\".format(data[0], data[1][0], p=data[1][1]))\n",
        "\n",
        "def print_tokenized(tokenizer, tokens):\n",
        "    string = ''\n",
        "    for token in tokens:\n",
        "        string += tokenizer.index_word[token]+' '\n",
        "    print(string)\n",
        "\n",
        "def plot_distribution(x, exercise_name):\n",
        "    plt.style.use('ggplot')\n",
        "    plt.figure(figsize=(15,10))\n",
        "    n, bins, patches = plt.hist(x, facecolor='b', alpha=0.75)\n",
        "    plt.title(exercise_name+' exercise', size=30)\n",
        "    plt.yticks(fontsize = 25)\n",
        "    plt.xticks(fontsize = 25)\n",
        "    plt.grid(True)\n",
        "    plt.show()\n",
        "    \n",
        "def configure_plotly_browser_state():\n",
        "  import IPython\n",
        "  display(IPython.core.display.HTML('''\n",
        "        <script src=\"/static/components/requirejs/require.js\"></script>\n",
        "        <script>\n",
        "          requirejs.config({\n",
        "            paths: {\n",
        "              base: '/static/base',\n",
        "              plotly: 'https://cdn.plot.ly/plotly-latest.min.js?noext',\n",
        "            },\n",
        "          });\n",
        "        </script>\n",
        "        '''))"
      ],
      "execution_count": 0,
      "outputs": []
    },
    {
      "cell_type": "markdown",
      "metadata": {
        "id": "N74FD_EwEUZq",
        "colab_type": "text"
      },
      "source": [
        "# Load Models and necessary stuff"
      ]
    },
    {
      "cell_type": "code",
      "metadata": {
        "id": "FukuxoAPGPzz",
        "colab_type": "code",
        "outputId": "ccec1ceb-2cfb-4d03-f804-776041a43aa8",
        "colab": {
          "base_uri": "https://localhost:8080/",
          "height": 35
        }
      },
      "source": [
        "import os\n",
        "os.listdir('.')"
      ],
      "execution_count": 0,
      "outputs": [
        {
          "output_type": "execute_result",
          "data": {
            "text/plain": [
              "['.config', 'sample_data']"
            ]
          },
          "metadata": {
            "tags": []
          },
          "execution_count": 5
        }
      ]
    },
    {
      "cell_type": "code",
      "metadata": {
        "id": "Zexcz1b6ESYG",
        "colab_type": "code",
        "outputId": "9a2192ea-b4a4-4b2d-95ca-2773f47a8d0f",
        "colab": {
          "resources": {
            "http://localhost:8080/nbextensions/google.colab/files.js": {
              "data": "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",
              "ok": true,
              "headers": [
                [
                  "content-type",
                  "application/javascript"
                ]
              ],
              "status": 200,
              "status_text": "OK"
            }
          },
          "base_uri": "https://localhost:8080/",
          "height": 81
        }
      },
      "source": [
        "from google.colab import files\n",
        "uploaded = files.upload()"
      ],
      "execution_count": 0,
      "outputs": [
        {
          "output_type": "display_data",
          "data": {
            "text/html": [
              "\n",
              "     <input type=\"file\" id=\"files-aafbfee0-cf36-4bd0-a335-c765a57fa458\" name=\"files[]\" multiple disabled />\n",
              "     <output id=\"result-aafbfee0-cf36-4bd0-a335-c765a57fa458\">\n",
              "      Upload widget is only available when the cell has been executed in the\n",
              "      current browser session. Please rerun this cell to enable.\n",
              "      </output>\n",
              "      <script src=\"/nbextensions/google.colab/files.js\"></script> "
            ],
            "text/plain": [
              "<IPython.core.display.HTML object>"
            ]
          },
          "metadata": {
            "tags": []
          }
        },
        {
          "output_type": "stream",
          "text": [
            "Saving test-df-IO-256-predicted2.pkl to test-df-IO-256-predicted2.pkl\n"
          ],
          "name": "stdout"
        }
      ]
    },
    {
      "cell_type": "code",
      "metadata": {
        "id": "Ifbtk3dZb02w",
        "colab_type": "code",
        "colab": {}
      },
      "source": [
        "#submissions = pd.read_pickle('test-df-intro-256-predicted.pkl')\n",
        "submissions = pd.read_pickle('test-df-IO-256-predicted2.pkl')"
      ],
      "execution_count": 0,
      "outputs": []
    },
    {
      "cell_type": "code",
      "metadata": {
        "id": "hxDqNtKgKq7u",
        "colab_type": "code",
        "colab": {}
      },
      "source": [
        "from sklearn.model_selection import cross_validate"
      ],
      "execution_count": 0,
      "outputs": []
    },
    {
      "cell_type": "code",
      "metadata": {
        "id": "vaNmbjwZ4eXb",
        "colab_type": "code",
        "colab": {}
      },
      "source": [
        "train_df = pd.read_pickle('train_df_intro_70.pkl')\n",
        "test_df = pd.read_pickle('test_df_intro_30.pkl')\n",
        "predicted_df = pd.read_pickle('test-df-intro-256-predicted.pkl')"
      ],
      "execution_count": 0,
      "outputs": []
    },
    {
      "cell_type": "code",
      "metadata": {
        "id": "CWMzBXkeu2GC",
        "colab_type": "code",
        "colab": {}
      },
      "source": [
        "info = {}\n",
        "for student in submissions['student.email'].unique():\n",
        "    #exer_df = submissions[submissions['exercise.name'] == exercise]\n",
        "    info[student] = submissions[submissions['student.email'] == student].shape[0]\n"
      ],
      "execution_count": 0,
      "outputs": []
    },
    {
      "cell_type": "code",
      "metadata": {
        "id": "_xAgHaWrvNnm",
        "colab_type": "code",
        "colab": {}
      },
      "source": [
        "len(info.keys())"
      ],
      "execution_count": 0,
      "outputs": []
    },
    {
      "cell_type": "code",
      "metadata": {
        "id": "etkGZ961wLjZ",
        "colab_type": "code",
        "colab": {}
      },
      "source": [
        "dic = {}\n",
        "lst = []\n",
        "for key, value in info.items():\n",
        "    dic['exercise'] = key\n",
        "    dic['proportion'] = value\n",
        "    lst.append(dic)\n",
        "    dic = {}"
      ],
      "execution_count": 0,
      "outputs": []
    },
    {
      "cell_type": "code",
      "metadata": {
        "id": "qpTkYlFLv4B5",
        "colab_type": "code",
        "colab": {}
      },
      "source": [
        "import csv\n",
        "csv_columns = ['exercise','proportion']\n",
        "\n",
        "csv_file = \"test_proportion_intro.csv\"\n",
        "try:\n",
        "    with open(csv_file, 'w') as csvfile:\n",
        "        writer = csv.DictWriter(csvfile, fieldnames=csv_columns)\n",
        "        writer.writeheader()\n",
        "        for data in lst:\n",
        "            writer.writerow(data)\n",
        "except IOError:\n",
        "    print(\"I/O error\") "
      ],
      "execution_count": 0,
      "outputs": []
    },
    {
      "cell_type": "code",
      "metadata": {
        "id": "0k5KbssuwT9D",
        "colab_type": "code",
        "colab": {}
      },
      "source": [
        "files.download('test_proportion_intro.csv')"
      ],
      "execution_count": 0,
      "outputs": []
    },
    {
      "cell_type": "code",
      "metadata": {
        "id": "mGMWCZbB5AIi",
        "colab_type": "code",
        "colab": {}
      },
      "source": [
        "df.to_pickle('IntroAlgo_df_final.pkl')\n",
        "files.download('IntroAlgo_df_final.pkl')"
      ],
      "execution_count": 0,
      "outputs": []
    },
    {
      "cell_type": "code",
      "metadata": {
        "id": "63q9-CZz6cYW",
        "colab_type": "code",
        "colab": {}
      },
      "source": [
        "df.columns"
      ],
      "execution_count": 0,
      "outputs": []
    },
    {
      "cell_type": "code",
      "metadata": {
        "id": "W0RaNAA4L4Uf",
        "colab_type": "code",
        "colab": {}
      },
      "source": [
        "info = {}\n",
        "for student in df['student.email'].unique():\n",
        "    info[student] = (df[df['student.email'] == student]['exercise.name'].nunique(),#exercises attempted\n",
        "                     df[(df['student.email'] == student) & (df['dropout_tray'])].shape[0], #dropouts\n",
        "                     df[df['student.email'] == student].shape[0], #submissions amount\n",
        "                     df[(df['student.email'] == student) & (df['dropout_tray'])].shape[0]/df[df['student.email'] == student].shape[0]) #proportion"
      ],
      "execution_count": 0,
      "outputs": []
    },
    {
      "cell_type": "code",
      "metadata": {
        "id": "2Hqd4iwYMpvA",
        "colab_type": "code",
        "colab": {}
      },
      "source": [
        "info\n",
        "primero = sorted(info.items(), key=lambda kv: -kv[1][3])\n",
        "primero"
      ],
      "execution_count": 0,
      "outputs": []
    },
    {
      "cell_type": "code",
      "metadata": {
        "id": "Og_djgurA4HS",
        "colab_type": "code",
        "colab": {}
      },
      "source": [
        "bad_experience = df[df['student.email'] == 'nicosemiotica23@hotmail.com']\n",
        "good_experience = df[df['student.email'] == 'pablinbor@gmail.com']"
      ],
      "execution_count": 0,
      "outputs": []
    },
    {
      "cell_type": "code",
      "metadata": {
        "id": "UDS0qAy1QKyI",
        "colab_type": "code",
        "colab": {}
      },
      "source": [
        "#train_df = df.drop(df[(df['student.email'] == 'pablinbor@gmail.com') | (df['student.email'] =='nicosemiotica23@hotmail.com')].index)\n",
        "test_df = df[(df['student.email'] == 'nicosemiotica23@hotmail.com') | (df['student.email'] == 'pablinbor@gmail.com')]\n",
        " #'vale.pereyra27@gmail.com', 'seba1999gonzalez@gmail.com'"
      ],
      "execution_count": 0,
      "outputs": []
    },
    {
      "cell_type": "code",
      "metadata": {
        "id": "ACD-vV4cR5bw",
        "colab_type": "code",
        "colab": {}
      },
      "source": [
        "train_df.to_pickle('train_df_two_less_students_by_ration.pkl')"
      ],
      "execution_count": 0,
      "outputs": []
    },
    {
      "cell_type": "code",
      "metadata": {
        "id": "UqFMl8-VRhc5",
        "colab_type": "code",
        "colab": {}
      },
      "source": [
        "test_df.to_pickle('test_df_two_less_students_by_ratio.pkl')"
      ],
      "execution_count": 0,
      "outputs": []
    },
    {
      "cell_type": "code",
      "metadata": {
        "id": "F4XByPrkSG2T",
        "colab_type": "code",
        "colab": {}
      },
      "source": [
        "files.download('train_df_two_less_students_by_ration.pkl')"
      ],
      "execution_count": 0,
      "outputs": []
    },
    {
      "cell_type": "markdown",
      "metadata": {
        "id": "h7MYR018EqVe",
        "colab_type": "text"
      },
      "source": [
        "# Build Model, Tokenizer and necessary stuff"
      ]
    },
    {
      "cell_type": "code",
      "metadata": {
        "id": "ShAlD4HIEnF3",
        "colab_type": "code",
        "colab": {}
      },
      "source": [
        "# Tokenizer\n",
        "with open('tokenizer-intro.pkl', 'rb') as handle:\n",
        "    tokenizer = pickle.load(handle)"
      ],
      "execution_count": 0,
      "outputs": []
    },
    {
      "cell_type": "code",
      "metadata": {
        "id": "a7orSBRDLbRf",
        "colab_type": "code",
        "outputId": "e6d68401-d5f4-48cc-b5a4-646bd11e9cf5",
        "colab": {
          "base_uri": "https://localhost:8080/",
          "height": 383
        }
      },
      "source": [
        "model = load_model('introAlgo.06-0.46.h5')\n",
        "#model = load_model('IO.10-0.81.h5')"
      ],
      "execution_count": 0,
      "outputs": [
        {
          "output_type": "stream",
          "text": [
            "WARNING: Logging before flag parsing goes to stderr.\n",
            "W0813 14:48:44.014571 139782496139136 deprecation_wrapper.py:119] From /usr/local/lib/python3.6/dist-packages/keras/backend/tensorflow_backend.py:517: The name tf.placeholder is deprecated. Please use tf.compat.v1.placeholder instead.\n",
            "\n",
            "W0813 14:48:44.063592 139782496139136 deprecation_wrapper.py:119] From /usr/local/lib/python3.6/dist-packages/keras/backend/tensorflow_backend.py:4138: The name tf.random_uniform is deprecated. Please use tf.random.uniform instead.\n",
            "\n",
            "W0813 14:48:44.082551 139782496139136 deprecation_wrapper.py:119] From /usr/local/lib/python3.6/dist-packages/keras/backend/tensorflow_backend.py:74: The name tf.get_default_graph is deprecated. Please use tf.compat.v1.get_default_graph instead.\n",
            "\n",
            "W0813 14:48:44.374034 139782496139136 deprecation_wrapper.py:119] From /usr/local/lib/python3.6/dist-packages/keras/backend/tensorflow_backend.py:133: The name tf.placeholder_with_default is deprecated. Please use tf.compat.v1.placeholder_with_default instead.\n",
            "\n",
            "W0813 14:48:44.386376 139782496139136 deprecation.py:506] From /usr/local/lib/python3.6/dist-packages/keras/backend/tensorflow_backend.py:3445: calling dropout (from tensorflow.python.ops.nn_ops) with keep_prob is deprecated and will be removed in a future version.\n",
            "Instructions for updating:\n",
            "Please use `rate` instead of `keep_prob`. Rate should be set to `rate = 1 - keep_prob`.\n",
            "W0813 14:48:44.435483 139782496139136 deprecation_wrapper.py:119] From /usr/local/lib/python3.6/dist-packages/keras/backend/tensorflow_backend.py:174: The name tf.get_default_session is deprecated. Please use tf.compat.v1.get_default_session instead.\n",
            "\n",
            "W0813 14:48:55.598309 139782496139136 deprecation_wrapper.py:119] From /usr/local/lib/python3.6/dist-packages/keras/optimizers.py:790: The name tf.train.Optimizer is deprecated. Please use tf.compat.v1.train.Optimizer instead.\n",
            "\n",
            "W0813 14:48:55.615457 139782496139136 deprecation.py:323] From /usr/local/lib/python3.6/dist-packages/tensorflow/python/ops/nn_impl.py:180: add_dispatch_support.<locals>.wrapper (from tensorflow.python.ops.array_ops) is deprecated and will be removed in a future version.\n",
            "Instructions for updating:\n",
            "Use tf.where in 2.0, which has the same broadcast rule as np.where\n"
          ],
          "name": "stderr"
        }
      ]
    },
    {
      "cell_type": "markdown",
      "metadata": {
        "id": "EkP6vdcKFTC_",
        "colab_type": "text"
      },
      "source": [
        "# Accuracy for each exercise"
      ]
    },
    {
      "cell_type": "code",
      "metadata": {
        "id": "L0Mw9vGgFrfZ",
        "colab_type": "code",
        "colab": {}
      },
      "source": [
        "acc_dict = {}\n",
        "for exercise in submissions['exercise.name'].unique():\n",
        "    df = submissions[submissions['exercise.name'] == exercise]\n",
        "    acc = df[df['target'] == df['predicted_classes']].shape[0]/df.shape[0]\n",
        "    acc_dict[exercise] = (df.shape[0], acc)"
      ],
      "execution_count": 0,
      "outputs": []
    },
    {
      "cell_type": "code",
      "metadata": {
        "id": "uDt27bmRFyJi",
        "colab_type": "code",
        "outputId": "9d9b90d9-9aba-4604-9bb7-c7b81bbd92ed",
        "colab": {
          "base_uri": "https://localhost:8080/",
          "height": 1000
        }
      },
      "source": [
        "acc_sorted = sorted(acc_dict.items(), key=lambda kv: -kv[1][0])\n",
        "acc_sorted"
      ],
      "execution_count": 0,
      "outputs": [
        {
          "output_type": "execute_result",
          "data": {
            "text/plain": [
              "[('esBisiesto', (5903, 0.7323394883957309)),\n",
              " ('esMultiploDe', (3460, 0.7170520231213873)),\n",
              " ('esMultiploDeTres', (3049, 0.702853394555592)),\n",
              " ('haceFrioF', (2271, 0.7793923381770145)),\n",
              " ('Puntos Para Setenta!', (1993, 0.7631710988459609)),\n",
              " ('Composición', (1516, 0.8449868073878628)),\n",
              " ('promediosSinAplazos', (1150, 0.7452173913043478)),\n",
              " ('esCuadradoPerfecto', (1093, 0.8023787740164684)),\n",
              " ('Pinos', (1091, 0.8881759853345554)),\n",
              " ('Más composición', (1023, 0.8357771260997068)),\n",
              " ('Dispersión', (960, 0.8083333333333333)),\n",
              " ('Más valores', (904, 0.8926991150442478)),\n",
              " ('Combinando funciones', (900, 0.8822222222222222)),\n",
              " ('Valores y variables', (878, 0.8633257403189066)),\n",
              " ('Orden de las Condiciones', (824, 0.8046116504854369)),\n",
              " ('Iterar', (821, 0.7539585870889159)),\n",
              " ('Los números', (768, 0.9049479166666666)),\n",
              " ('Más funciones', (729, 0.8600823045267489)),\n",
              " ('Tipando tuplas', (725, 0.8110344827586207)),\n",
              " ('Múltiples parámetros', (707, 0.917963224893918)),\n",
              " ('Los operadores son funciones', (697, 0.9311334289813487)),\n",
              " ('celsiusToFahr', (695, 0.8762589928057554)),\n",
              " ('Triángulos', (692, 0.9277456647398844)),\n",
              " ('fahrToCelsius', (672, 0.8630952380952381)),\n",
              " ('Las Funciones', (637, 0.9403453689167975)),\n",
              " ('mitad', (625, 0.9008)),\n",
              " ('promedios', (606, 0.8267326732673267)),\n",
              " ('Variable Anónima', (583, 0.8439108061749572)),\n",
              " ('La historia sin fin', (563, 0.7140319715808171)),\n",
              " ('Los booleanos', (556, 0.9622302158273381)),\n",
              " ('No todo lo que brilla es Oro', (528, 0.8181818181818182)),\n",
              " ('Otherwise', (525, 0.8742857142857143)),\n",
              " ('Guardas: Básico', (520, 0.9)),\n",
              " ('notasFinales2-upla', (489, 0.8732106339468303)),\n",
              " ('interseccion', (478, 0.8598326359832636)),\n",
              " ('esNumeroPositivo', (466, 0.9120171673819742)),\n",
              " ('pertenece', (457, 0.8271334792122538)),\n",
              " ('notas', (451, 0.9046563192904656)),\n",
              " ('siguiente', (436, 0.9288990825688074)),\n",
              " ('Pattern Matching con Tuplas', (398, 0.9170854271356784)),\n",
              " ('Pausa: Volvieron los tipos', (375, 0.856)),\n",
              " ('Cuando los patrones no encajan', (359, 0.9052924791086351)),\n",
              " ('esMayorDeEdad', (346, 0.8208092485549133)),\n",
              " ('calcular', (338, 0.8284023668639053)),\n",
              " ('diferencias', (299, 0.862876254180602)),\n",
              " ('transformadaLoca', (293, 0.8668941979522184)),\n",
              " ('¡Terminala! Parte 2', (269, 0.8513011152416357)),\n",
              " ('El caso base', (265, 0.8452830188679246)),\n",
              " ('maximoSegun', (262, 0.8053435114503816)),\n",
              " ('fibonacci', (258, 0.8798449612403101)),\n",
              " ('menoresA', (241, 0.8589211618257261)),\n",
              " ('cuentaBizarra', (233, 0.8583690987124464)),\n",
              " ('maximo', (225, 0.8311111111111111)),\n",
              " ('Área', (202, 0.9306930693069307)),\n",
              " ('productoria', (200, 0.84)),\n",
              " ('sinRepetidos', (186, 0.8387096774193549)),\n",
              " ('aplicar2-upla', (176, 0.8465909090909091)),\n",
              " ('intercalar', (165, 0.9151515151515152)),\n",
              " ('elementos3-upla', (146, 0.8493150684931506)),\n",
              " ('alVesre', (141, 0.900709219858156)),\n",
              " ('zipWith', (131, 0.8015267175572519)),\n",
              " ('filtrar', (115, 0.8521739130434782)),\n",
              " ('aplanar', (86, 0.8372093023255814)),\n",
              " ('Días', (9, 0.4444444444444444)),\n",
              " ('Cubo', (3, 1.0)),\n",
              " ('Triple', (3, 1.0)),\n",
              " ('Inversa', (3, 1.0))]"
            ]
          },
          "metadata": {
            "tags": []
          },
          "execution_count": 15
        }
      ]
    },
    {
      "cell_type": "markdown",
      "metadata": {
        "id": "O2r4271qQStD",
        "colab_type": "text"
      },
      "source": [
        "# Best Acc"
      ]
    },
    {
      "cell_type": "code",
      "metadata": {
        "id": "8cximmeNJ0Il",
        "colab_type": "code",
        "outputId": "891a6f43-dc18-4875-9d1b-2f89ddd0e0e4",
        "colab": {
          "base_uri": "https://localhost:8080/",
          "height": 687
        }
      },
      "source": [
        "print_header(acc_sorted[0])\n",
        "plot_distribution(submissions[submissions['exercise.name']=='esBisiesto']['predicted'], 'isLeap')"
      ],
      "execution_count": 0,
      "outputs": [
        {
          "output_type": "stream",
          "text": [
            "Exercise Name: esBisiesto\n",
            "Support: 5903\n",
            "Accuracy: 0.73\n"
          ],
          "name": "stdout"
        },
        {
          "output_type": "display_data",
          "data": {
            "image/png": "[encoded data removed]",
            "text/plain": [
              "<Figure size 1080x720 with 1 Axes>"
            ]
          },
          "metadata": {
            "tags": []
          }
        }
      ]
    },
    {
      "cell_type": "code",
      "metadata": {
        "id": "EItp_mwkKAr1",
        "colab_type": "code",
        "outputId": "a846ced6-227a-4164-8c47-e4656c6d6a40",
        "colab": {
          "base_uri": "https://localhost:8080/",
          "height": 395
        }
      },
      "source": [
        "print_header(acc_sorted[2])\n",
        "plot_distribution(submissions[submissions['exercise.name']=='haceFrioF']['predicted'], 'haceFrioF')"
      ],
      "execution_count": 0,
      "outputs": [
        {
          "output_type": "stream",
          "text": [
            "Exercise Name: haceFrioF\n",
            "Support: 215\n",
            "Accuracy: 0.82\n"
          ],
          "name": "stdout"
        },
        {
          "output_type": "display_data",
          "data": {
            "image/png": "[encoded data removed]",
            "text/plain": [
              "<Figure size 720x360 with 1 Axes>"
            ]
          },
          "metadata": {
            "tags": []
          }
        }
      ]
    },
    {
      "cell_type": "code",
      "metadata": {
        "id": "3RoQu1FtKNGf",
        "colab_type": "code",
        "outputId": "79d9d78b-1b93-467c-babe-a46d2511a0a4",
        "colab": {
          "base_uri": "https://localhost:8080/",
          "height": 689
        }
      },
      "source": [
        "print_header(acc_sorted[3])\n",
        "plot_distribution(submissions[submissions['exercise.name']=='Pinos']['predicted'], 'Pinos')"
      ],
      "execution_count": 0,
      "outputs": [
        {
          "output_type": "stream",
          "text": [
            "Exercise Name: Pinos\n",
            "Support: 208\n",
            "Accuracy: 0.89\n"
          ],
          "name": "stdout"
        },
        {
          "output_type": "display_data",
          "data": {
            "image/png": "[encoded data removed]",
            "text/plain": [
              "<Figure size 1080x720 with 1 Axes>"
            ]
          },
          "metadata": {
            "tags": []
          }
        }
      ]
    },
    {
      "cell_type": "code",
      "metadata": {
        "id": "regjmSqfKQx7",
        "colab_type": "code",
        "outputId": "bb8ceed8-5cfa-4201-cbf4-668b97636c8b",
        "colab": {
          "base_uri": "https://localhost:8080/",
          "height": 395
        }
      },
      "source": [
        "print_header(acc_sorted[6])\n",
        "plot_distribution(submissions[submissions['exercise.name']=='Días']['predicted'], 'Días')"
      ],
      "execution_count": 0,
      "outputs": [
        {
          "output_type": "stream",
          "text": [
            "Exercise Name: Días\n",
            "Support: 167\n",
            "Accuracy: 0.88\n"
          ],
          "name": "stdout"
        },
        {
          "output_type": "display_data",
          "data": {
            "image/png": "[encoded data removed]",
            "text/plain": [
              "<Figure size 720x360 with 1 Axes>"
            ]
          },
          "metadata": {
            "tags": []
          }
        }
      ]
    },
    {
      "cell_type": "markdown",
      "metadata": {
        "id": "2dXL7IlDQYvQ",
        "colab_type": "text"
      },
      "source": [
        "# Experimental Zone"
      ]
    },
    {
      "cell_type": "code",
      "metadata": {
        "id": "UYd8MxkvecTm",
        "colab_type": "code",
        "colab": {}
      },
      "source": [
        "exercises = [ 'esBisiesto', 'esMultiploDeTres', 'haceFrioF', 'Pinos',\n",
        "    'Orden de las Condiciones', 'Dispersión', 'Días',\n",
        "             'No todo lo que brilla es Oro']\n",
        "df = pd.DataFrame()\n",
        "for exercise in exercises:\n",
        "    df = df.append(submissions[submissions['exercise.name'] == exercise].sample(n=5, random_state=42)[['content', 'exercise.name','target','predicted_classes', 'predicted']])"
      ],
      "execution_count": 0,
      "outputs": []
    },
    {
      "cell_type": "code",
      "metadata": {
        "id": "FsYPi-V9T_e9",
        "colab_type": "code",
        "colab": {}
      },
      "source": [
        "for index, row in submissions.iloc[index_tag_exercises].iterrows():\n",
        "    print(row['submissions_status'])"
      ],
      "execution_count": 0,
      "outputs": []
    },
    {
      "cell_type": "code",
      "metadata": {
        "id": "7x9Jd1bYyIAR",
        "colab_type": "code",
        "colab": {}
      },
      "source": [
        "index_tag_exercises = [297,327,537,441,274,3861,3992,3929,3790,3863,4541,\n",
        "                       4553,4479,4517,4356,3445,3299,3357,3380,3450,1656,\n",
        "                       1650,1741,1773,1709,4179,4202,4313,4238,4305,3593,\n",
        "                       3600,3570,3548,3590,2656,2735,2684,2670,2723]\n",
        "for index, row in submissions.iloc[index_tag_exercises].iterrows():\n",
        "    print(row['content'] + '\\n')"
      ],
      "execution_count": 0,
      "outputs": []
    },
    {
      "cell_type": "code",
      "metadata": {
        "id": "fSD5t2RtgB31",
        "colab_type": "code",
        "colab": {}
      },
      "source": [
        "for elem in df['content'].values:\n",
        "    print(elem)\n",
        "    print(\"--------------------\")"
      ],
      "execution_count": 0,
      "outputs": []
    },
    {
      "cell_type": "code",
      "metadata": {
        "id": "8iqWZx-QQBzZ",
        "colab_type": "code",
        "colab": {}
      },
      "source": [
        "esBisiesto_df = submissions[submissions['exercise.name']=='esBisiesto']"
      ],
      "execution_count": 0,
      "outputs": []
    },
    {
      "cell_type": "code",
      "metadata": {
        "id": "FYPrxCFhsyOT",
        "colab_type": "code",
        "colab": {}
      },
      "source": [
        "print(esBisiesto_df[['content', 'exercise.name','target','predicted_classes', 'predicted']].sort_values('predicted', ascending=False).loc[559]['content'])\n",
        "print(esBisiesto_df[['content', 'exercise.name','target','predicted_classes', 'predicted']].sort_values('predicted', ascending=False).loc[559]['predicted'])"
      ],
      "execution_count": 0,
      "outputs": []
    },
    {
      "cell_type": "code",
      "metadata": {
        "id": "mGGSWMB_2pIe",
        "colab_type": "code",
        "colab": {}
      },
      "source": [
        "for index, row in esBisiesto_df[(esBisiesto_df['target'] == 1) & (esBisiesto_df['predicted'] >= 0.7)][['content', 'exercise.name','target','predicted_classes', 'predicted']].sort_values('predicted').iloc[-40:].iterrows():\n",
        "    print(row.content)\n",
        "    print(row.predicted)\n",
        "    print(\"============ \\n\")\n",
        "#esBisiesto_df[esBisiesto_df['student.email'] == 'pl.roldan1@gmail.com'].loc[490]#['content']\n",
        "#print(esBisiesto_df.loc[4207]['content'])\n"
      ],
      "execution_count": 0,
      "outputs": []
    },
    {
      "cell_type": "code",
      "metadata": {
        "id": "rWQGizheQAbz",
        "colab_type": "code",
        "colab": {}
      },
      "source": [
        "#exer = [submissions.loc[exer_id]['content']][0].replace('&&', '||')\n",
        "exer = 'esBisiesto x = (esMultiploDe x 400) || ((esMultiploDe x 4) && not(esMultiploDe x 100)) '\n",
        "exer"
      ],
      "execution_count": 0,
      "outputs": []
    },
    {
      "cell_type": "code",
      "metadata": {
        "id": "hcZi4RaaQaw8",
        "colab_type": "code",
        "colab": {}
      },
      "source": [
        "exer_id = 274\n",
        "#exer_id = 607\n",
        "#Tokenizo la solucion\n",
        "#tokenized = tokenizer.texts_to_sequences([submissions.loc[exer_id]['content']])[0]\n",
        "\n",
        "tokenized = tokenizer.texts_to_sequences([exer])[0]\n",
        "\n",
        "#ventada de 1, voy sacando de a un token y padeo \n",
        "to_train = [(tokenized[i], tokenized[:i]+tokenized[i+1:]) for i in range(len(tokenized))]\n",
        "\n",
        "print(submissions.loc[exer_id]['predicted_classes'])\n",
        "print(submissions.loc[exer_id]['predicted'])\n",
        "print(submissions.loc[exer_id]['content'])\n",
        "\n",
        "for i in tokenizer.texts_to_sequences([submissions.loc[exer_id]['content']]):\n",
        "    print(i)\n",
        "#to_train"
      ],
      "execution_count": 0,
      "outputs": []
    },
    {
      "cell_type": "code",
      "metadata": {
        "id": "ndZSpKZIQf3z",
        "colab_type": "code",
        "colab": {}
      },
      "source": [
        "print_tokenized(tokenizer,tokenized)\n",
        "print(get_prediction(model, [tokenized], 100)[0][0])\n",
        "print('\\n')\n",
        "\n",
        "\n",
        "for elem in to_train:\n",
        "    print(\"Remove token {}\".format(tokenizer.index_word[elem[0]]))\n",
        "    print_tokenized(tokenizer, elem[1])\n",
        "    print(get_prediction(model, [elem[1]], 100)[0][0])\n",
        "    print('\\n')"
      ],
      "execution_count": 0,
      "outputs": []
    },
    {
      "cell_type": "code",
      "metadata": {
        "id": "1bj5rl4A-mL8",
        "colab_type": "code",
        "colab": {}
      },
      "source": [
        "lst = np.array([])\n",
        "predicted = {}\n",
        "for i in range(len(tokenized)):\n",
        "    lst = tokenized[:i+1]\n",
        "    predicted[i] = (get_prediction(model, [lst], 100)[0][0], lst)"
      ],
      "execution_count": 0,
      "outputs": []
    },
    {
      "cell_type": "code",
      "metadata": {
        "id": "1FU3_u-yD66E",
        "colab_type": "code",
        "colab": {}
      },
      "source": [
        "values = []\n",
        "for elem in list(predicted.values()):\n",
        "    tokens = elem[1]\n",
        "    string = ''\n",
        "    for token in tokens:\n",
        "        string += tokenizer.index_word[token] + ' '\n",
        "    values.append(string)"
      ],
      "execution_count": 0,
      "outputs": []
    },
    {
      "cell_type": "code",
      "metadata": {
        "id": "0LUyWLSNE_14",
        "colab_type": "code",
        "colab": {}
      },
      "source": [
        "predictions = [elem[0] for elem in list(predicted.values())]"
      ],
      "execution_count": 0,
      "outputs": []
    },
    {
      "cell_type": "code",
      "metadata": {
        "id": "psMrEE14Ibwd",
        "colab_type": "code",
        "colab": {}
      },
      "source": [
        "for elem in predicted.values():\n",
        "    print(\"Score {}\".format(elem[0]))\n",
        "    print_tokenized(tokenizer, elem[1])\n",
        "    print()"
      ],
      "execution_count": 0,
      "outputs": []
    },
    {
      "cell_type": "code",
      "metadata": {
        "id": "WEAiNB4SIhFa",
        "colab_type": "code",
        "colab": {}
      },
      "source": [
        "values"
      ],
      "execution_count": 0,
      "outputs": []
    },
    {
      "cell_type": "code",
      "metadata": {
        "id": "S7QyRrQSCWBX",
        "colab_type": "code",
        "colab": {}
      },
      "source": [
        "\n",
        "configure_plotly_browser_state()\n",
        "plotly.offline.init_notebook_mode(connected=True)\n",
        "\n",
        "trace = go.Heatmap(z=predictions,\n",
        "                   x=list(predicted.keys()),\n",
        "                   y=values)\n",
        "data=[trace]\n",
        "plotly.offline.iplot(data, filename='labelled-heatmap')"
      ],
      "execution_count": 0,
      "outputs": []
    },
    {
      "cell_type": "code",
      "metadata": {
        "id": "n9WrezwxF20I",
        "colab_type": "code",
        "colab": {}
      },
      "source": [
        "esBisiesto_df[(esBisiesto_df['target'] == 1) & (esBisiesto_df['predicted'] >= 0.7)][['content', 'exercise.name','target','predicted_classes', 'predicted']]"
      ],
      "execution_count": 0,
      "outputs": []
    },
    {
      "cell_type": "code",
      "metadata": {
        "id": "R6pUV6MTdp_A",
        "colab_type": "code",
        "colab": {}
      },
      "source": [
        "df.to_excel(\"anotation.xls\")"
      ],
      "execution_count": 0,
      "outputs": []
    },
    {
      "cell_type": "markdown",
      "metadata": {
        "id": "c0_9zIkDoMRM",
        "colab_type": "text"
      },
      "source": [
        "# A new beatiful set of experiments"
      ]
    },
    {
      "cell_type": "markdown",
      "metadata": {
        "id": "ILPNjLI8quS1",
        "colab_type": "text"
      },
      "source": [
        "Top 5 exercises sorted by submissions to test."
      ]
    },
    {
      "cell_type": "code",
      "metadata": {
        "id": "kXYSTaQcoLk8",
        "colab_type": "code",
        "colab": {}
      },
      "source": [
        "sorted(acc_dict.items(), key=lambda x : -x[1][0])[:6]"
      ],
      "execution_count": 0,
      "outputs": []
    },
    {
      "cell_type": "code",
      "metadata": {
        "id": "y9d0ebJD2PQN",
        "colab_type": "code",
        "colab": {}
      },
      "source": [
        "most_frequent = [elem[0] for elem in sorted(acc_dict.items(), key=lambda x : -x[1][0])[:6]]\n",
        "most_frequent"
      ],
      "execution_count": 0,
      "outputs": []
    },
    {
      "cell_type": "markdown",
      "metadata": {
        "id": "ZdgJ2jMvq3lh",
        "colab_type": "text"
      },
      "source": [
        "Last 5 exercises sorted by submissions to test."
      ]
    },
    {
      "cell_type": "code",
      "metadata": {
        "id": "zzKVz2rkqo0n",
        "colab_type": "code",
        "colab": {}
      },
      "source": [
        "sorted(acc_dict.items(), key=lambda x : -x[1][0])[-5:]"
      ],
      "execution_count": 0,
      "outputs": []
    },
    {
      "cell_type": "code",
      "metadata": {
        "id": "32MnElmej9CU",
        "colab_type": "code",
        "colab": {}
      },
      "source": [
        "less_frequent = [elem[0] for elem in sorted(acc_dict.items(), key=lambda x : -x[1][0])[-5:]]\n",
        "less_frequent"
      ],
      "execution_count": 0,
      "outputs": []
    },
    {
      "cell_type": "code",
      "metadata": {
        "id": "lLcJZo0VnVW0",
        "colab_type": "code",
        "colab": {}
      },
      "source": [
        "def calculate_f1(submissions, exercise_names):\n",
        "    res = {}\n",
        "    for exercise in exercise_names:\n",
        "        y_true = submissions[submissions['exercise.name'] == exercise]['target']\n",
        "        y_pred = submissions[submissions['exercise.name'] == exercise]['predicted_classes']\n",
        "        ## AGREGAR WEIGHTED ACAAAAAAAAAAAAAAAA\n",
        "        res[exercise] = f1_score(y_true, y_pred, average='weighted')\n",
        "    return res"
      ],
      "execution_count": 0,
      "outputs": []
    },
    {
      "cell_type": "code",
      "metadata": {
        "id": "k_-LD0tHnmtV",
        "colab_type": "code",
        "colab": {}
      },
      "source": [
        "calculate_f1(submissions, most_frequent)"
      ],
      "execution_count": 0,
      "outputs": []
    },
    {
      "cell_type": "code",
      "metadata": {
        "id": "_qzXUy3CoGsy",
        "colab_type": "code",
        "colab": {}
      },
      "source": [
        "calculate_f1(submissions, less_frequent)"
      ],
      "execution_count": 0,
      "outputs": []
    },
    {
      "cell_type": "code",
      "metadata": {
        "id": "hdK-01EWTJFK",
        "colab_type": "code",
        "colab": {}
      },
      "source": [
        "all_exercise = [elem[0] for elem in sorted(acc_dict.items(), key=lambda x : -x[1][0])]"
      ],
      "execution_count": 0,
      "outputs": []
    },
    {
      "cell_type": "code",
      "metadata": {
        "id": "bPbGiPnpQ8O-",
        "colab_type": "code",
        "colab": {}
      },
      "source": [
        "submissions = pd.read_pickle('test-df-IO-256-predicted2.pkl')"
      ],
      "execution_count": 0,
      "outputs": []
    },
    {
      "cell_type": "code",
      "metadata": {
        "id": "mU2vbWTbRI-m",
        "colab_type": "code",
        "colab": {}
      },
      "source": [
        "all_exercise = submissions['exercise.name'].unique()"
      ],
      "execution_count": 0,
      "outputs": []
    },
    {
      "cell_type": "code",
      "metadata": {
        "id": "j2zQ5Th9Rfw2",
        "colab_type": "code",
        "colab": {}
      },
      "source": [
        "f1s = calculate_f1(submissions, all_exercise)"
      ],
      "execution_count": 0,
      "outputs": []
    },
    {
      "cell_type": "code",
      "metadata": {
        "id": "XyVtqatQRX7D",
        "colab_type": "code",
        "colab": {}
      },
      "source": [
        "\n",
        "f1s"
      ],
      "execution_count": 0,
      "outputs": []
    },
    {
      "cell_type": "code",
      "metadata": {
        "id": "qJ3vGkPHqCKo",
        "colab_type": "code",
        "colab": {}
      },
      "source": [
        "train_df = pd.read_pickle('train_df_IO.pkl')\n",
        "test_df = pd.read_pickle('test_df_IO.pkl')"
      ],
      "execution_count": 0,
      "outputs": []
    },
    {
      "cell_type": "code",
      "metadata": {
        "id": "LunnLsOvueQn",
        "colab_type": "code",
        "colab": {}
      },
      "source": [
        "import tensorflow as tf\n",
        "from keras import backend as K\n",
        "\n",
        "def super_network(exercise_name, train_df, test_df, f1=False):\n",
        "    config = tf.ConfigProto()\n",
        "    config.gpu_options.per_process_gpu_memory_fraction = 0.5\n",
        "    sess = tf.Session(config=config)\n",
        "    K.set_session(sess)\n",
        "\n",
        "    data_dict = {}\n",
        "    exer_train_df = train_df[train_df['exercise.name'] == exercise_name]\n",
        "    exer_test_df = test_df[test_df['exercise.name'] == exercise_name]\n",
        "\n",
        "    X_train = exer_train_df['content'].values\n",
        "    Y_train = exer_train_df['target'].values\n",
        "    X_test = exer_test_df['content'].values\n",
        "    Y_test = exer_test_df['target'].values\n",
        "\n",
        "    max_length = 100\n",
        "    top_words = 5000\n",
        "    X_train = tokenizer.texts_to_sequences(X_train)\n",
        "    X_test = tokenizer.texts_to_sequences(X_test)\n",
        "\n",
        "    X_train = sequence.pad_sequences(X_train, maxlen=max_length)\n",
        "    X_test = sequence.pad_sequences(X_test, maxlen=max_length)\n",
        "\n",
        "    callbacks = [F1_Score((X_train, Y_train)), ModelCheckpoint(\"Super-network-\"+str(exercise_name)+\".{epoch:02d}-{val_loss:.2f}.h5\", monitor=\"val_loss\", save_best_only=True, period=1)]\n",
        "\n",
        "    # create the model\n",
        "    embedding_vecor_length = 256\n",
        "    model = Sequential()\n",
        "    model.add(Embedding(top_words, embedding_vecor_length, input_length=max_length))\n",
        "    model.add(LSTM(100))\n",
        "    model.add(Dropout(0.4))\n",
        "    model.add(Dense(1, activation='sigmoid'))\n",
        "    model.compile(loss='binary_crossentropy', optimizer='adam', metrics=['accuracy'])\n",
        "    print(exercise_name+'\\n')\n",
        "    print(model.summary())\n",
        "    res = model.fit(np.array(X_train), Y_train, validation_data=(np.array(X_test), Y_test), epochs=10, batch_size=32, callbacks=callbacks)\n",
        "    if f1:\n",
        "        info_tup = (X_test.shape[0], callbacks[0].val_f1s[-1])\n",
        "    else:\n",
        "        info_tup = (X_test.shape[0], model.history.history['val_acc'][-1])\n",
        "            \n",
        "    K.clear_session()\n",
        "    return info_tup"
      ],
      "execution_count": 0,
      "outputs": []
    },
    {
      "cell_type": "code",
      "metadata": {
        "id": "RJTgb4CSuQKm",
        "colab_type": "code",
        "colab": {}
      },
      "source": [
        "data_dict = {}\n",
        "for exercise in tqdm(train_df['exercise.name'].unique()):\n",
        "    data_dict[exercise] = super_network(exercise, train_df, test_df, False)"
      ],
      "execution_count": 0,
      "outputs": []
    },
    {
      "cell_type": "code",
      "metadata": {
        "id": "ntTnSF_rKSLF",
        "colab_type": "code",
        "colab": {}
      },
      "source": [
        "data_dict"
      ],
      "execution_count": 0,
      "outputs": []
    },
    {
      "cell_type": "code",
      "metadata": {
        "id": "zLh--KL6Y2Rb",
        "colab_type": "code",
        "colab": {}
      },
      "source": [
        "pickle_out = open(\"dict_1exer_1network.pkl\",\"wb\")\n",
        "pickle.dump(data_dict, pickle_out)\n",
        "pickle_out.close()"
      ],
      "execution_count": 0,
      "outputs": []
    },
    {
      "cell_type": "code",
      "metadata": {
        "id": "-D6IPgp02dEM",
        "colab_type": "code",
        "colab": {}
      },
      "source": [
        "acc = 0\n",
        "avg = 0\n",
        "denom = 0\n",
        "for elem in data_dict.values():\n",
        "    acc += elem[0]*elem[1]\n",
        "    denom += elem[0]\n",
        "\n",
        "print(acc/denom)"
      ],
      "execution_count": 0,
      "outputs": []
    },
    {
      "cell_type": "code",
      "metadata": {
        "id": "wGo83PK16gMs",
        "colab_type": "code",
        "colab": {}
      },
      "source": [
        "sorted(data_dict.items(), key=lambda kv : -kv[1][0])"
      ],
      "execution_count": 0,
      "outputs": []
    },
    {
      "cell_type": "code",
      "metadata": {
        "id": "9PasSTR62oDw",
        "colab_type": "code",
        "colab": {}
      },
      "source": [
        "from google.colab import files\n",
        "files.download('dict_1exer_1network.pkl')"
      ],
      "execution_count": 0,
      "outputs": []
    },
    {
      "cell_type": "code",
      "metadata": {
        "id": "kmLPrHrvdvIg",
        "colab_type": "code",
        "colab": {}
      },
      "source": [
        "with (open(\"dict_1exer_1network.pkl\", \"rb\")) as openfile:\n",
        "    exer_dic = pickle.load(openfile)"
      ],
      "execution_count": 0,
      "outputs": []
    },
    {
      "cell_type": "code",
      "metadata": {
        "id": "_ypnx8x_d7xY",
        "colab_type": "code",
        "colab": {}
      },
      "source": [
        "acc = 0\n",
        "avg = 0\n",
        "denom = 0\n",
        "for elem in exer_dic.values():\n",
        "    acc += elem[0]*elem[1]\n",
        "    denom += elem[0]\n",
        "\n",
        "print(acc/denom)"
      ],
      "execution_count": 0,
      "outputs": []
    },
    {
      "cell_type": "markdown",
      "metadata": {
        "id": "W01qoj7oqmEb",
        "colab_type": "text"
      },
      "source": [
        "{'Dispersión': (181, 0.7652459155810826),\n",
        " 'Días': (167, 0.8686666305977379),\n",
        " 'No todo lo que brilla es Oro': (152, 0.8473044726085528),\n",
        " 'Orden de las Condiciones': (205, 0.824202992843201),\n",
        " 'Pinos': (208, 0.9062048121370155),\n",
        " 'esBisiesto': (407, 0.7849954447512929),\n",
        " 'esMultiploDeTres': (268, 0.6817535603643089),\n",
        " 'haceFrioF': (215, 0.840480847663598)}"
      ]
    },
    {
      "cell_type": "markdown",
      "metadata": {
        "id": "yL3WVqna6jxf",
        "colab_type": "text"
      },
      "source": [
        "## Most used \n",
        "\n",
        "New\n",
        "- esBisiesto tested over 407 examples 0.84 best f1\n",
        "- esMultiplodeTres tested over 268 examples 0.77 best f1\n",
        "- PInos tested over 208 examples 0.89 best f1\n",
        "- Orden de las Condiciones  tested over 205 best f1 0.85\n",
        "- haceFrioF tested over 215 best f1 0.80\n",
        "- Dispersión tested over 181 best f1 0.83\n",
        "\n",
        "Old\n",
        "- 'Dispersión': 0.8412017167381974,\n",
        "- 'Orden de las Condiciones': 0.8549019607843139,\n",
        "- 'Pinos': 0.920863309352518,\n",
        "-  'esBisiesto': 0.8712871287128713,\n",
        "- 'esMultiploDeTres': 0.7828746177370031,\n",
        "- 'haceFrioF': 0.7796610169491526\n",
        " \n",
        "|  exercise  | tested amount | Previous F1 | New F1 | \n",
        "|-------------|:---------:|:-------------:|:---------:|\n",
        "| esBisiesto | 407 |  0.87  | 0.84   |\n",
        "| esMultiplodeTres | 268 |  0.78  | 0.77   |\n",
        "| Pinos | 268 |  0.92  | 0.89   |\n",
        "| OrdendeLasCondiciones | 205 |  0.85  | 0.85 |\n",
        "| HaceFrioF | 215 |  0.77 | 0.80 |\n",
        "| Dispersion | 181 |  0.84 | 0.83 |\n",
        "\n",
        "\n",
        "\n"
      ]
    },
    {
      "cell_type": "markdown",
      "metadata": {
        "id": "tSrilykKEn-u",
        "colab_type": "text"
      },
      "source": [
        "## less used\n",
        "\n",
        "\n",
        "|  exercise  | tested amount | Previous F1 | New F1 | \n",
        "|-------------|:---------:|:-------------:|:---------:|\n",
        "| iterar | 14 |  0.71  | 0.44   |\n",
        "| alVesre | 18 |  0.84  | 0.82   |\n",
        "| aplanar | 14 |  0.90  | 0.89   |\n",
        "| intercalar | 20 |  0.72  | 0.57 |\n",
        "| zipWith | 14 |  0.72 | 0.68 |\n",
        "\n"
      ]
    },
    {
      "cell_type": "code",
      "metadata": {
        "id": "JbMHZKdiejNE",
        "colab_type": "code",
        "colab": {}
      },
      "source": [
        "from google.colab import files\n",
        "uploaded = files.upload()"
      ],
      "execution_count": 0,
      "outputs": []
    },
    {
      "cell_type": "code",
      "metadata": {
        "id": "OxlY_PFWVBMH",
        "colab_type": "code",
        "colab": {}
      },
      "source": [
        "os.listdir('.')"
      ],
      "execution_count": 0,
      "outputs": []
    },
    {
      "cell_type": "code",
      "metadata": {
        "id": "LDUVqUX-enf0",
        "colab_type": "code",
        "colab": {}
      },
      "source": [
        "train_io = pd.read_pickle('train_df_IO (1).pkl')\n",
        "test_io = pd.read_pickle('test_df_IO.pkl')"
      ],
      "execution_count": 0,
      "outputs": []
    },
    {
      "cell_type": "code",
      "metadata": {
        "id": "tfmLriMBkxRL",
        "colab_type": "code",
        "colab": {}
      },
      "source": [
        "X_train = train_io['content'].values\n",
        "Y_train = train_io['target'].values\n",
        "X_test = test_io['content'].values\n",
        "Y_test = test_io['target'].values"
      ],
      "execution_count": 0,
      "outputs": []
    },
    {
      "cell_type": "code",
      "metadata": {
        "id": "6LRK0VF4k0Mc",
        "colab_type": "code",
        "colab": {}
      },
      "source": [
        "tokenizer = Tokenizer(num_words=35000, oov_token=\"<UNK>\", filters='', lower=False)\n",
        "tokenizer.fit_on_texts(X_train)"
      ],
      "execution_count": 0,
      "outputs": []
    },
    {
      "cell_type": "code",
      "metadata": {
        "id": "XyGKZzl5lAkJ",
        "colab_type": "code",
        "colab": {}
      },
      "source": [
        "with open('tokenizer-IO.pkl', 'wb') as handle:\n",
        "    pickle.dump(tokenizer, handle, protocol=pickle.HIGHEST_PROTOCOL)"
      ],
      "execution_count": 0,
      "outputs": []
    },
    {
      "cell_type": "code",
      "metadata": {
        "id": "S4t4j-msIUOt",
        "colab_type": "code",
        "colab": {}
      },
      "source": [
        "files.download('tokenizer-IO.pkl')"
      ],
      "execution_count": 0,
      "outputs": []
    },
    {
      "cell_type": "code",
      "metadata": {
        "id": "ae9m8pvglwHq",
        "colab_type": "code",
        "colab": {}
      },
      "source": [
        "max_length = 100\n",
        "top_words = 5000\n",
        "X_train = tokenizer.texts_to_sequences(X_train)\n",
        "X_test = tokenizer.texts_to_sequences(X_test)\n"
      ],
      "execution_count": 0,
      "outputs": []
    },
    {
      "cell_type": "code",
      "metadata": {
        "id": "Dr6EjnOZlyBg",
        "colab_type": "code",
        "colab": {}
      },
      "source": [
        "X_train = sequence.pad_sequences(X_train, maxlen=max_length)\n",
        "X_test = sequence.pad_sequences(X_test, maxlen=max_length)"
      ],
      "execution_count": 0,
      "outputs": []
    },
    {
      "cell_type": "code",
      "metadata": {
        "id": "pIjZ2Pe9aofC",
        "colab_type": "code",
        "colab": {}
      },
      "source": [
        "import tensorflow as tf\n",
        "from keras import backend as K\n",
        "\n",
        "config = tf.ConfigProto()\n",
        "config.gpu_options.per_process_gpu_memory_fraction = 0.8\n",
        "sess = tf.Session(config=config)\n",
        "K.set_session(sess)\n",
        "    \n",
        "callbacks = [F1_Score((X_train, Y_train)), ModelCheckpoint(\"IO.{epoch:02d}-{val_loss:.2f}.h5\", monitor=\"val_loss\", save_best_only=True, period=1)]\n",
        "\n",
        "# create the model\n",
        "embedding_vecor_length = 256\n",
        "model = Sequential()\n",
        "model.add(Embedding(top_words, embedding_vecor_length, input_length=max_length))\n",
        "model.add(LSTM(100))\n",
        "model.add(Dropout(0.4))\n",
        "model.add(Dense(1, activation='sigmoid'))\n",
        "model.compile(loss='binary_crossentropy', optimizer='adam', metrics=['accuracy'])\n",
        "print(model.summary())\n",
        "res = model.fit(np.array(X_train), Y_train, validation_data=(np.array(X_test), Y_test), epochs=20, batch_size=32, callbacks=callbacks)"
      ],
      "execution_count": 0,
      "outputs": []
    },
    {
      "cell_type": "code",
      "metadata": {
        "id": "mvCwrjxiGUfn",
        "colab_type": "code",
        "colab": {}
      },
      "source": [
        ""
      ],
      "execution_count": 0,
      "outputs": []
    },
    {
      "cell_type": "code",
      "metadata": {
        "id": "-4yHpA9Yl09E",
        "colab_type": "code",
        "colab": {}
      },
      "source": [
        "data_dict_io = {}\n",
        "for exercise in tqdm(train_io['exercise.name'].unique()):\n",
        "    data_dict_io[exercise] = super_network(exercise, train_io, test_io, False)"
      ],
      "execution_count": 0,
      "outputs": []
    },
    {
      "cell_type": "code",
      "metadata": {
        "id": "u7NgyJAtl3d0",
        "colab_type": "code",
        "colab": {}
      },
      "source": [
        "pickle_out = open(\"dict_1exer_1network-IO.pkl\",\"wb\")\n",
        "pickle.dump(data_dict_io, pickle_out)\n",
        "pickle_out.close()"
      ],
      "execution_count": 0,
      "outputs": []
    },
    {
      "cell_type": "code",
      "metadata": {
        "id": "T67lsNsRLSEV",
        "colab_type": "code",
        "colab": {}
      },
      "source": [
        "train_df[train_df['exercise.name'] == 'Cubo']"
      ],
      "execution_count": 0,
      "outputs": []
    },
    {
      "cell_type": "code",
      "metadata": {
        "id": "oE1Pq3kgs40u",
        "colab_type": "code",
        "colab": {}
      },
      "source": [
        "files.download('dict_1exer_1network-IO.pkl')"
      ],
      "execution_count": 0,
      "outputs": []
    },
    {
      "cell_type": "code",
      "metadata": {
        "id": "mAgPY_mCZ-FN",
        "colab_type": "code",
        "colab": {}
      },
      "source": [
        "acc = 0\n",
        "avg = 0\n",
        "denom = 0\n",
        "for elem in data_dict_io.values():\n",
        "    acc += elem[0]*elem[1]\n",
        "    denom += elem[0]\n",
        "\n",
        "print(acc/denom)"
      ],
      "execution_count": 0,
      "outputs": []
    },
    {
      "cell_type": "code",
      "metadata": {
        "id": "0AeZhNGtaLwK",
        "colab_type": "code",
        "colab": {}
      },
      "source": [
        "import os\n",
        "import pickle\n",
        "os.listdir('.')"
      ],
      "execution_count": 0,
      "outputs": []
    },
    {
      "cell_type": "code",
      "metadata": {
        "id": "BSvXzXJlafps",
        "colab_type": "code",
        "colab": {}
      },
      "source": [
        "with (open(\"dict_1exer_1network.pkl\", \"rb\")) as openfile:\n",
        "    exer_dic = pickle.load(openfile)"
      ],
      "execution_count": 0,
      "outputs": []
    },
    {
      "cell_type": "code",
      "metadata": {
        "id": "HWPleLPw7vdY",
        "colab_type": "code",
        "colab": {}
      },
      "source": [
        "with (open(\"dict_1exer_1network-IO.pkl\", \"rb\")) as openfile:\n",
        "    exer_dic_io = pickle.load(openfile)"
      ],
      "execution_count": 0,
      "outputs": []
    },
    {
      "cell_type": "code",
      "metadata": {
        "id": "9ZdlDc8D8op6",
        "colab_type": "code",
        "colab": {}
      },
      "source": [
        "def weighted_avg(df):\n",
        "    acc = 0\n",
        "    avg = 0\n",
        "    denom = 0\n",
        "    for elem in df.values():\n",
        "        acc += elem[0]*elem[1]\n",
        "        denom += elem[0]\n",
        "\n",
        "    return acc/denom"
      ],
      "execution_count": 0,
      "outputs": []
    },
    {
      "cell_type": "markdown",
      "metadata": {
        "id": "EjxJZnKw8LXY",
        "colab_type": "text"
      },
      "source": [
        "## Weighted Average Intro"
      ]
    },
    {
      "cell_type": "code",
      "metadata": {
        "id": "TkbRIyWJ8JUP",
        "colab_type": "code",
        "colab": {}
      },
      "source": [
        "print(weighted_avg(exer_dic))"
      ],
      "execution_count": 0,
      "outputs": []
    },
    {
      "cell_type": "markdown",
      "metadata": {
        "id": "HvqqRPJF8WSU",
        "colab_type": "text"
      },
      "source": [
        "## Weighted Average IO"
      ]
    },
    {
      "cell_type": "code",
      "metadata": {
        "id": "OseXaIh78V3q",
        "colab_type": "code",
        "colab": {}
      },
      "source": [
        "print(weighted_avg(exer_dic_io))"
      ],
      "execution_count": 0,
      "outputs": []
    },
    {
      "cell_type": "code",
      "metadata": {
        "id": "rCDcsetYEabD",
        "colab_type": "code",
        "colab": {}
      },
      "source": [
        "acc = 0\n",
        "avg = 0\n",
        "index = 0\n",
        "for elem in exer_dic.values():\n",
        "    acc += elem[1]\n",
        "    index += 1\n",
        "avg = acc/index\n",
        "print(avg)"
      ],
      "execution_count": 0,
      "outputs": []
    },
    {
      "cell_type": "code",
      "metadata": {
        "id": "jk6vnWtdEecT",
        "colab_type": "code",
        "colab": {}
      },
      "source": [
        "acc = 0\n",
        "avg = 0\n",
        "index = 0\n",
        "for elem in exer_dic_io.values():\n",
        "    acc += elem[1]\n",
        "    index += 1\n",
        "avg = acc/index\n",
        "print(avg)"
      ],
      "execution_count": 0,
      "outputs": []
    },
    {
      "cell_type": "code",
      "metadata": {
        "id": "-ZH-v60IF61i",
        "colab_type": "code",
        "colab": {}
      },
      "source": [
        "files.upload()"
      ],
      "execution_count": 0,
      "outputs": []
    },
    {
      "cell_type": "code",
      "metadata": {
        "id": "Yon5UhjCHnMJ",
        "colab_type": "code",
        "colab": {}
      },
      "source": [
        "dic = {}\n",
        "lst = []\n",
        "for key, value in data_dict.items():\n",
        "    dic['exercise'] = key\n",
        "    dic['support'] = value[0]\n",
        "    dic['accuracy'] = value[1]\n",
        "    lst.append(dic)\n",
        "    dic = {}"
      ],
      "execution_count": 0,
      "outputs": []
    },
    {
      "cell_type": "code",
      "metadata": {
        "id": "6Q9lbslcJ5-E",
        "colab_type": "code",
        "colab": {}
      },
      "source": [
        "lst"
      ],
      "execution_count": 0,
      "outputs": []
    },
    {
      "cell_type": "code",
      "metadata": {
        "id": "gYiRiZUnICHI",
        "colab_type": "code",
        "colab": {}
      },
      "source": [
        "import csv\n",
        "csv_columns = ['exercise','support','accuracy']\n",
        "\n",
        "csv_file = \"big_network_io_accuracy.csv\"\n",
        "try:\n",
        "    with open(csv_file, 'w') as csvfile:\n",
        "        writer = csv.DictWriter(csvfile, fieldnames=csv_columns)\n",
        "        writer.writeheader()\n",
        "        for data in lst:\n",
        "            writer.writerow(data)\n",
        "except IOError:\n",
        "    print(\"I/O error\") "
      ],
      "execution_count": 0,
      "outputs": []
    },
    {
      "cell_type": "code",
      "metadata": {
        "id": "ehD8x2AXJj4n",
        "colab_type": "code",
        "colab": {}
      },
      "source": [
        "from google.colab import files\n",
        "files.download(\"big_network_io_accuracy.csv\")"
      ],
      "execution_count": 0,
      "outputs": []
    },
    {
      "cell_type": "code",
      "metadata": {
        "id": "Yfs26icELZ9d",
        "colab_type": "code",
        "colab": {}
      },
      "source": [
        "test_io[test_io['exercise.name'] == 'Cubo']\n",
        "#train_io[train_io['exercise.name'] == 'Cubo']"
      ],
      "execution_count": 0,
      "outputs": []
    },
    {
      "cell_type": "code",
      "metadata": {
        "id": "o4_coeHAXhQT",
        "colab_type": "code",
        "colab": {}
      },
      "source": [
        "os.listdir(\".\")"
      ],
      "execution_count": 0,
      "outputs": []
    },
    {
      "cell_type": "code",
      "metadata": {
        "id": "DsmXBxQMftfl",
        "colab_type": "code",
        "colab": {}
      },
      "source": [
        "def chunks(l, n):\n",
        "    \"\"\"Yield successive n-sized chunks from l.\"\"\"\n",
        "    for i in range(0, len(l), n):\n",
        "        yield l[i:i + n]"
      ],
      "execution_count": 0,
      "outputs": []
    },
    {
      "cell_type": "code",
      "metadata": {
        "id": "659RDi8dHCL5",
        "colab_type": "code",
        "colab": {}
      },
      "source": [
        "import tensorflow as tf\n",
        "from keras import backend as K\n",
        "\n",
        "def fold_network_student(students, df, tokenizer, f1=False):\n",
        "    config = tf.ConfigProto()\n",
        "    config.gpu_options.per_process_gpu_memory_fraction = 0.7\n",
        "    sess = tf.Session(config=config)\n",
        "    K.set_session(sess)\n",
        "\n",
        "    data_dict = {}\n",
        "    exer_train_df = df[~df['student.email'].isin(students)]\n",
        "    exer_test_df = df[df['student.email'].isin(students)]\n",
        "\n",
        "    X_train = exer_train_df['content'].values\n",
        "    Y_train = exer_train_df['target'].values\n",
        "    X_test = exer_test_df['content'].values\n",
        "    Y_test = exer_test_df['target'].values\n",
        "\n",
        "    max_length = 100\n",
        "    top_words = 5000\n",
        "    X_train = tokenizer.texts_to_sequences(X_train)\n",
        "    X_test = tokenizer.texts_to_sequences(X_test)\n",
        "\n",
        "    X_train = sequence.pad_sequences(X_train, maxlen=max_length)\n",
        "    X_test = sequence.pad_sequences(X_test, maxlen=max_length)\n",
        "\n",
        "    callbacks = [F1_Score((X_train, Y_train)), ModelCheckpoint(\"Fold-network-.{epoch:02d}-{val_loss:.2f}.h5\", monitor=\"val_loss\", save_best_only=True, period=1)]\n",
        "\n",
        "    # create the model\n",
        "    embedding_vecor_length = 256\n",
        "    model = Sequential()\n",
        "    model.add(Embedding(top_words, embedding_vecor_length, input_length=max_length))\n",
        "    model.add(LSTM(100))\n",
        "    model.add(Dropout(0.3))\n",
        "    model.add(Dense(1, activation='sigmoid'))\n",
        "    model.compile(loss='binary_crossentropy', optimizer='adam', metrics=['accuracy'])\n",
        "    print(students)\n",
        "    print(model.summary())\n",
        "    res = model.fit(np.array(X_train), Y_train, validation_data=(np.array(X_test), Y_test), epochs=10, batch_size=32, callbacks=callbacks)\n",
        "    if f1:\n",
        "        info_tup = (exer_train_df[exer_train_df['dropout_tray']].shape[0], exer_train_df.shape[0], \n",
        "                    exer_train_df[exer_train_df['dropout_tray']].shape[0] / exer_train_df.shape[0], \n",
        "                    exer_test_df[exer_test_df['dropout_tray']].shape[0],\n",
        "                    exer_test_df.shape[0],\n",
        "                    exer_test_df[exer_test_df['dropout_tray']].shape[0] / exer_test_df.shape[0],\n",
        "                    max(callbacks[0].val_f1s))\n",
        "    else:\n",
        "        info_tup = (exer_train_df[exer_train_df['dropout_tray']].shape[0], exer_train_df.shape[0], \n",
        "                    exer_train_df[exer_train_df['dropout_tray']].shape[0] / exer_train_df.shape[0], \n",
        "                    exer_test_df[exer_test_df['dropout_tray']].shape[0],\n",
        "                    exer_test_df.shape[0],\n",
        "                    exer_test_df[exer_test_df['dropout_tray']].shape[0] / exer_test_df.shape[0], max(model.history.history['val_acc']))\n",
        "            \n",
        "    K.clear_session()\n",
        "    return info_tup"
      ],
      "execution_count": 0,
      "outputs": []
    },
    {
      "cell_type": "code",
      "metadata": {
        "id": "jC6OFww0OBzw",
        "colab_type": "code",
        "colab": {}
      },
      "source": [
        "tokenizer = Tokenizer(num_words=35000, oov_token=\"<UNK>\", lower=False, filters='')\n",
        "tokenizer.fit_on_texts(submissions['content'])"
      ],
      "execution_count": 0,
      "outputs": []
    },
    {
      "cell_type": "code",
      "metadata": {
        "id": "XNSl-YGiNpmz",
        "colab_type": "code",
        "colab": {}
      },
      "source": [
        "network_fold = {}\n",
        "index = 1\n",
        "for elem in tqdm(list(chunks(submissions['student.email'].unique(), 339))):\n",
        "    network_fold[index] = fold_network_student(list(elem), submissions, tokenizer, True)\n",
        "    index += 1"
      ],
      "execution_count": 0,
      "outputs": []
    },
    {
      "cell_type": "code",
      "metadata": {
        "id": "6Np_Tj0RPqjC",
        "colab_type": "code",
        "colab": {}
      },
      "source": [
        "network_fold"
      ],
      "execution_count": 0,
      "outputs": []
    },
    {
      "cell_type": "code",
      "metadata": {
        "id": "RgpTWUFmTguV",
        "colab_type": "code",
        "colab": {}
      },
      "source": [
        "dic = {}\n",
        "lst = []\n",
        "for key, value in network_fold.items():\n",
        "    dic['fold_number'] = key\n",
        "    dic['dropout_train'] = value[0]\n",
        "    dic['examples_train'] = value[1]\n",
        "    dic['ratio_train'] = value[2]\n",
        "    dic['dropout_test'] = value[3]\n",
        "    dic['examples_test'] = value[4]\n",
        "    dic['ratio_test'] = value[5]\n",
        "    dic['f1'] = value[6]\n",
        "    lst.append(dic)\n",
        "    dic = {}"
      ],
      "execution_count": 0,
      "outputs": []
    },
    {
      "cell_type": "code",
      "metadata": {
        "id": "cJ246sgQXCNV",
        "colab_type": "code",
        "colab": {}
      },
      "source": [
        "import csv\n",
        "csv_columns = ['fold_number','dropout_train','examples_train', 'ratio_train', 'dropout_test','examples_test', 'ratio_test', 'f1']\n",
        "\n",
        "csv_file = \"fold_network_intro.csv\"\n",
        "try:\n",
        "    with open(csv_file, 'w') as csvfile:\n",
        "        writer = csv.DictWriter(csvfile, fieldnames=csv_columns)\n",
        "        writer.writeheader()\n",
        "        for data in lst:\n",
        "            writer.writerow(data)\n",
        "except IOError:\n",
        "    print(\"I/O error\") "
      ],
      "execution_count": 0,
      "outputs": []
    },
    {
      "cell_type": "code",
      "metadata": {
        "id": "zp0epiZwXDsp",
        "colab_type": "code",
        "colab": {}
      },
      "source": [
        "files.download('fold_network_intro.csv')"
      ],
      "execution_count": 0,
      "outputs": []
    },
    {
      "cell_type": "markdown",
      "metadata": {
        "id": "c-rvo6N0LdYo",
        "colab_type": "text"
      },
      "source": [
        "# Fold by submissions"
      ]
    },
    {
      "cell_type": "code",
      "metadata": {
        "id": "M9ZwtgB6MqjR",
        "colab_type": "code",
        "colab": {}
      },
      "source": [
        "from sklearn.model_selection import StratifiedKFold"
      ],
      "execution_count": 0,
      "outputs": []
    },
    {
      "cell_type": "code",
      "metadata": {
        "id": "vD1Tjta1LaVe",
        "colab_type": "code",
        "colab": {}
      },
      "source": [
        "tokenizer = Tokenizer(num_words=35000, oov_token=\"<UNK>\", lower=False, filters='')\n",
        "tokenizer.fit_on_texts(submissions['content'])"
      ],
      "execution_count": 0,
      "outputs": []
    },
    {
      "cell_type": "code",
      "metadata": {
        "id": "IOtZk_obXcL8",
        "colab_type": "code",
        "colab": {}
      },
      "source": [
        "X = submissions['content'].values\n",
        "Y = submissions['target'].values\n",
        "\n",
        "max_length = 100\n",
        "top_words = 5000\n",
        "X = tokenizer.texts_to_sequences(X)\n",
        "X = sequence.pad_sequences(X, maxlen=max_length)\n",
        "\n",
        "kfold = StratifiedKFold(n_splits=3, shuffle=True, random_state=SEED)\n",
        "cvscores = []\n",
        "for train, test in kfold.split(X, Y):\n",
        "    callbacks = [F1_Score((X[train], Y[train])), ModelCheckpoint(\"Fold-network-.{epoch:02d}-{val_loss:.2f}.h5\", monitor=\"val_loss\", save_best_only=True, period=1)]\n",
        "\n",
        "    # create the model\n",
        "    embedding_vecor_length = 256\n",
        "    model = Sequential()\n",
        "    model.add(Embedding(top_words, embedding_vecor_length, input_length=max_length))\n",
        "    model.add(LSTM(100))\n",
        "    model.add(Dropout(0.3))\n",
        "    model.add(Dense(1, activation='sigmoid'))\n",
        "    model.compile(loss='binary_crossentropy', optimizer='adam', metrics=['accuracy'])\n",
        "\n",
        "    print(model.summary())\n",
        "    res = model.fit(np.array(X[train]), Y[train], validation_data=(np.array(X[test]), Y[test]), epochs=1, batch_size=32, callbacks=callbacks)\n",
        "    cvscores.append(max(callbacks[0].val_f1s))"
      ],
      "execution_count": 0,
      "outputs": []
    },
    {
      "cell_type": "code",
      "metadata": {
        "id": "lGsBtbHxNDRy",
        "colab_type": "code",
        "colab": {}
      },
      "source": [
        ""
      ],
      "execution_count": 0,
      "outputs": []
    },
    {
      "cell_type": "markdown",
      "metadata": {
        "id": "iVbTZlTqde7M",
        "colab_type": "text"
      },
      "source": [
        "# De Malo a bueno"
      ]
    },
    {
      "cell_type": "code",
      "metadata": {
        "id": "nJNHKZE3kOEQ",
        "colab_type": "code",
        "outputId": "e401798d-0485-43c1-be26-653cf5e7f788",
        "colab": {
          "base_uri": "https://localhost:8080/",
          "height": 1000
        }
      },
      "source": [
        "#predicted_df[(predicted_df['exercise.name'] == 'esBisiesto') & (predicted_df['target'] == 0)][['content', 'target', 'predicted']].iloc[0]['content']\n",
        "for i in range(20):\n",
        "    exer = predicted_df[(predicted_df['exercise.name'] == 'esBisiesto') & (predicted_df['predicted'] > 0.4) & (predicted_df['predicted'] < 0.6) & (predicted_df['target'] == 1)][['content', 'target', 'predicted']].sort_values('predicted', ascending=False).iloc[i]\n",
        "    print(i, exer['content'], exer['predicted'], '\\n')"
      ],
      "execution_count": 0,
      "outputs": [
        {
          "output_type": "stream",
          "text": [
            "0 esBisiesto :: Float -> Bool\r\n",
            "esBisiesto n = esMultiploDe n 400 || esMultiploDe n 4 not 100 0.5961923 \n",
            "\n",
            "1 esBisiesto :: Float -> Bool\r\n",
            "esBisiesto n = esMultiploDe n 400 || esMultiploDe n 4 not 100 0.5961923 \n",
            "\n",
            "2 esBisiesto = (esMultiploDe 400)\r\n",
            " 0.5936166 \n",
            "\n",
            "3 esBisiesto n = (esMultiploDe 400 n) 0.58657736 \n",
            "\n",
            "4 esBisiesto esMultiploDe x = mod x 0.58201754 \n",
            "\n",
            "5 esBisiesto :: Int -> Int -> Bool\r\n",
            "esBisiesto n = not (esMultiploDe n)  0.5727112 \n",
            "\n",
            "6 esBisiesto n = (esMultiploDe n 400) 0.5684053 \n",
            "\n",
            "7 esBisiesto x = esMultiploDe x 100 0.55742866 \n",
            "\n",
            "8 esBisiesto x = esMultiploDe x (4 not 100) 0.55309427 \n",
            "\n",
            "9 esBisiesto :: Float -> Float -> Bool\r\n",
            "esBisiesto esMultiploDe num = esMultiploDe num 400 == 0 || esMultiploDe num 4 == 0  0.5514641 \n",
            "\n",
            "10 esBisiesto x = esMultiploDe x 4 not (esMultiploDe 100) 0.54279935 \n",
            "\n",
            "11 esBisiesto x  = (esMultiploDe 4 x ) && ( esMultiploDe 400 x ) && not ( esMultiploDe 100 x )  0.53530395 \n",
            "\n",
            "12 esBisiesto:: Int->Bool\r\n",
            "esBisiesto n= \r\n",
            "\r\n",
            "esMultiploDe n 400 \r\n",
            "  0.53469974 \n",
            "\n",
            "13 esBisiesto :: Int -> Bool\r\n",
            "esBisiestoDe n = mod n 400 == 0 || mod n 4 == 0 && n not esMultiplo n 100 0.52454674 \n",
            "\n",
            "14 esBisiesto:: Int->Bool\r\n",
            "esBisiesto n= \r\n",
            "(esMultiploDe n 4 && not (esMultiploDe n 100)) || esMultiploDe n 400 \r\n",
            "  0.5226952 \n",
            "\n",
            "15 esBisiesto :: int -> bool\r\n",
            "\r\n",
            "esbisiesto año =(((mod año 4 == 0) && (mod año 100 /= 0)) ||(mod año 400 == 0)) 0.5209306 \n",
            "\n",
            "16 esBisiesto x = esMultiploDe x == 0 0.48454556 \n",
            "\n",
            "17 esBisiesto numero = (esMultiploDe numero 400 && esMultiploDe numero 4) 0.47766313 \n",
            "\n",
            "18 esBisiesto :: Int -> Int -> Bool\r\n",
            "esBisiesto n = (esMultiploDe n 400 == 0) 0.4578118 \n",
            "\n",
            "19 esBisiesto numero = esMultiploDe 4 && not(esMultiploDe 100) 0.44778132 \n",
            "\n"
          ],
          "name": "stdout"
        }
      ]
    },
    {
      "cell_type": "code",
      "metadata": {
        "id": "8IX4r34MdeSq",
        "colab_type": "code",
        "colab": {}
      },
      "source": [
        "for i in range(40):\n",
        "    exer = predicted_df[(predicted_df['exercise.name'] == 'esBisiesto') & (predicted_df['target'] == 1)][['content', 'target', 'predicted']].sort_values('predicted', ascending=False).iloc[i]\n",
        "    print(\"{} {} {} \\n\".format(i, exer['content'], exer['predicted']))\n"
      ],
      "execution_count": 0,
      "outputs": []
    },
    {
      "cell_type": "code",
      "metadata": {
        "id": "ufrjLW-YiKLj",
        "colab_type": "code",
        "colab": {}
      },
      "source": [
        "def predict_a_attemp(model, exercise, tokenizer):\n",
        "    prediction = 0\n",
        "    tokenized = tokenizer.texts_to_sequences([exercise])[0]\n",
        "    prediction = get_prediction(model, [tokenized], 100)[0][0]\n",
        "    return prediction"
      ],
      "execution_count": 0,
      "outputs": []
    },
    {
      "cell_type": "code",
      "metadata": {
        "id": "SvrytCx9dpZG",
        "colab_type": "code",
        "outputId": "6860d86a-3f43-4997-af30-21e398cc64be",
        "colab": {
          "base_uri": "https://localhost:8080/",
          "height": 35
        }
      },
      "source": [
        "exer = 'esBisiesto n = esMultiploDe n 400  || (not (esMultiploDe n 100) && (esMultiploDe n 4))'\n",
        "tokenized = tokenizer.texts_to_sequences([exer])[0]\n",
        "#print(tokenized)\n",
        "print(get_prediction(model, [tokenized], 100))\n"
      ],
      "execution_count": 0,
      "outputs": [
        {
          "output_type": "stream",
          "text": [
            "[[0.00036595]]\n"
          ],
          "name": "stdout"
        }
      ]
    },
    {
      "cell_type": "code",
      "metadata": {
        "id": "H9jo5iHIeYwr",
        "colab_type": "code",
        "colab": {}
      },
      "source": [
        "atte = 'esBisiesto esMultploDe x*4 = x*4'\n",
        "attem = 'esBisiesto x=not esMultiploDe x 4'\n",
        "attemp = 'esBisiesto 400=not esMultiploDe 400 100'\n",
        "attemp_0 = 'esBisiesto = mod 400 4 && not (mod 100)'\n",
        "attemp_1 = 'esBisiesto = mod n 400 4 && not (mod n 100)'\n",
        "attemp_2 = 'esBisiesto n = mod n 400 4 && not (mod n 100)'\n",
        "attemp_3 = 'esBisiesto n = mod n 400  && not (mod n 100)'\n",
        "attemp_4 = 'esBisiesto n = mod n 400 == 0  && not (mod n 100 == 0)'\n",
        "attemp_5 = 'esBisiesto n = mod n 400 == 0  && not (mod n 100 == 0) && (mod n 4 == 0)'\n",
        "attemp_6 = 'esBisiesto n = mod n 400 == 0  || not (mod n 100 == 0) && (mod n 4 == 0)'\n",
        "attemp_7 = 'esBisiesto n = esMultiploDe n 400  && not (esMultiploDe n 100)'\n",
        "attemp_8 = 'esBisiesto n = esMultiploDe n 400  && not (esMultiploDe n 100) && (esMultiploDe n 4)'\n",
        "attemp_9 = 'esBisiesto n = esMultiploDe n 400  || not (esMultiploDe n 100) && (esMultiploDe n 4)'\n",
        "attemp_10 = 'esBisiesto n = (esMultiploDe n 400) || ((esMultiploDe n 4) && not(esMultiploDe n 100))'"
      ],
      "execution_count": 0,
      "outputs": []
    },
    {
      "cell_type": "code",
      "metadata": {
        "id": "F7cD5sxoh-tR",
        "colab_type": "code",
        "outputId": "5fecad07-e27a-47cc-9a8a-8e0c8ad5493e",
        "colab": {
          "base_uri": "https://localhost:8080/",
          "height": 272
        }
      },
      "source": [
        "lst = [atte, attem, attemp, attemp_0, attemp_1, attemp_2, attemp_3, attemp_4, attemp_5, attemp_6, attemp_7,attemp_8, attemp_9, attemp_10]\n",
        "res = []\n",
        "index = 1\n",
        "dic = {}\n",
        "for elem in lst:\n",
        "    print(elem, predict_a_attemp(model, elem, tokenizer))\n",
        "    index += 1"
      ],
      "execution_count": 0,
      "outputs": [
        {
          "output_type": "stream",
          "text": [
            "esBisiesto esMultploDe x*4 = x*4 0.99994385\n",
            "esBisiesto x=not esMultiploDe x 4 0.9997271\n",
            "esBisiesto 400=not esMultiploDe 400 100 0.99894315\n",
            "esBisiesto = mod 400 4 && not (mod 100) 0.9853784\n",
            "esBisiesto = mod n 400 4 && not (mod n 100) 0.9183582\n",
            "esBisiesto n = mod n 400 4 && not (mod n 100) 0.86685973\n",
            "esBisiesto n = mod n 400  && not (mod n 100) 0.7896689\n",
            "esBisiesto n = mod n 400 == 0  && not (mod n 100 == 0) 0.618492\n",
            "esBisiesto n = mod n 400 == 0  && not (mod n 100 == 0) && (mod n 4 == 0) 0.3098392\n",
            "esBisiesto n = mod n 400 == 0  || not (mod n 100 == 0) && (mod n 4 == 0) 0.22220014\n",
            "esBisiesto n = esMultiploDe n 400  && not (esMultiploDe n 100) 0.23816271\n",
            "esBisiesto n = esMultiploDe n 400  && not (esMultiploDe n 100) && (esMultiploDe n 4) 0.011356719\n",
            "esBisiesto n = esMultiploDe n 400  || not (esMultiploDe n 100) && (esMultiploDe n 4) 0.006454925\n",
            "esBisiesto n = (esMultiploDe n 400) || ((esMultiploDe n 4) && not(esMultiploDe n 100)) 0.0013494304\n"
          ],
          "name": "stdout"
        }
      ]
    },
    {
      "cell_type": "code",
      "metadata": {
        "id": "dlficTjJih3I",
        "colab_type": "code",
        "outputId": "201d165a-a848-4969-a4f4-832c532b24b8",
        "colab": {
          "base_uri": "https://localhost:8080/",
          "height": 35
        }
      },
      "source": [
        "dic"
      ],
      "execution_count": 0,
      "outputs": [
        {
          "output_type": "execute_result",
          "data": {
            "text/plain": [
              "{}"
            ]
          },
          "metadata": {
            "tags": []
          },
          "execution_count": 96
        }
      ]
    },
    {
      "cell_type": "code",
      "metadata": {
        "id": "NvvvYkTWislf",
        "colab_type": "code",
        "colab": {}
      },
      "source": [
        ""
      ],
      "execution_count": 0,
      "outputs": []
    }
  ]
}