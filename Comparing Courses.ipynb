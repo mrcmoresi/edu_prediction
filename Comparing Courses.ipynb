{
 "cells": [
  {
   "cell_type": "code",
   "execution_count": null,
   "metadata": {},
   "outputs": [],
   "source": [
    "import pandas as pd\n",
    "import os\n",
    "import numpy as np\n",
    "import json"
   ]
  },
  {
   "cell_type": "code",
   "execution_count": null,
   "metadata": {},
   "outputs": [],
   "source": [
    "dataset_home = 'datasets/courses/'\n",
    "json_file = open(os.path.join(dataset_home, 'test.json'), encoding='utf8')\n",
    "json_data = json.load(json_file)\n",
    "\n",
    "df_2 = pd.DataFrame()\n",
    "df_2 = pd.io.json.json_normalize(\n",
    "    json_data, 'submissions', ['course',['guide','language','name']], record_prefix='submissions_')\n",
    "\n",
    "df_2"
   ]
  },
  {
   "cell_type": "code",
   "execution_count": null,
   "metadata": {},
   "outputs": [],
   "source": [
    "dataset_home = 'datasets/courses/'\n",
    "\n",
    "first_exp = ['introalgo-unc_2016-2c-introalgo-2c-2016.json', 'introalgo-unc_2017-2c-introalgo-2c-2017.json', 'introalgo-unc-1c-2017_2017-1c-introalgo-1c-2017.json']\n",
    "have_exp = ['pdep-utn-frd_paradigmas-2016.json']\n",
    "\n",
    "first_exp_sub = pd.DataFrame()\n",
    "for course in first_exp:\n",
    "    json_file = open(os.path.join(dataset_home, course), encoding='utf8')\n",
    "    json_data = json.load(json_file)\n",
    "    first_exp_sub = pd.io.json.json_normalize(\n",
    "        json_data, 'submissions', ['course',['guide','language','name']], record_prefix='submissions_')\n",
    "\n",
    "have_exp_sub = pd.DataFrame()\n",
    "for course in have_exp:\n",
    "    json_file = open(os.path.join(dataset_home, course), encoding='utf8')\n",
    "    json_data = json.load(json_file)\n",
    "    have_exp_sub = pd.io.json.json_normalize(\n",
    "        json_data, 'submissions', ['course',['guide','language','name']], record_prefix='submissions_')"
   ]
  },
  {
   "cell_type": "code",
   "execution_count": null,
   "metadata": {},
   "outputs": [],
   "source": [
    "def get_metrics(input_df):\n",
    "    metrics = {}\n",
    "    total_amount_submissions = input_df.shape[0]\n",
    "    submissions_grouped = input_df.groupby(['submissions_status']).size()\n",
    "    metrics = submissions_grouped / total_amount_submissions\n",
    "    return (metrics, total_amount_submissions)"
   ]
  },
  {
   "cell_type": "code",
   "execution_count": null,
   "metadata": {},
   "outputs": [],
   "source": [
    "have_exp_sub = have_exp_sub[~(have_exp_sub['submissions_status'] == 'aborted')]\n",
    "have_exp_sub = have_exp_sub[~(have_exp_sub['submissions_status'] == 'pending')]\n",
    "\n",
    "first_exp_sub = first_exp_sub[~(first_exp_sub['submissions_status'] == 'aborted')]\n",
    "first_exp_sub = first_exp_sub[~(first_exp_sub['submissions_status'] == 'pending')]"
   ]
  },
  {
   "cell_type": "code",
   "execution_count": null,
   "metadata": {},
   "outputs": [],
   "source": [
    "metrics_exp, amount_exp = get_metrics(have_exp_sub[have_exp_sub['guide.language.name'] == 'haskell'])\n",
    "metrics_first, amount_first = get_metrics(first_exp_sub[first_exp_sub['guide.language.name'] == 'haskell'])"
   ]
  },
  {
   "cell_type": "markdown",
   "metadata": {},
   "source": [
    "# Metrics IntroAlgo (without exp)"
   ]
  },
  {
   "cell_type": "code",
   "execution_count": null,
   "metadata": {},
   "outputs": [],
   "source": [
    "print(metrics_first, amount_first)\n",
    "print('Submissions amount {}'.format(first_exp_sub.shape[0]))"
   ]
  },
  {
   "cell_type": "markdown",
   "metadata": {},
   "source": [
    "# Metrics Paradigmas UTN"
   ]
  },
  {
   "cell_type": "code",
   "execution_count": null,
   "metadata": {},
   "outputs": [],
   "source": [
    "print(metrics_exp, amount_exp)\n",
    "print('Submissions amount {}'.format(have_exp_sub.shape[0]))"
   ]
  }
 ],
 "metadata": {
  "kernelspec": {
   "display_name": "Python 3",
   "language": "python",
   "name": "python3"
  },
  "language_info": {
   "codemirror_mode": {
    "name": "ipython",
    "version": 3
   },
   "file_extension": ".py",
   "mimetype": "text/x-python",
   "name": "python",
   "nbconvert_exporter": "python",
   "pygments_lexer": "ipython3",
   "version": "3.6.5"
  }
 },
 "nbformat": 4,
 "nbformat_minor": 2
}
